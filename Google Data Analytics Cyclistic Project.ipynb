{
 "cells": [
  {
   "cell_type": "markdown",
   "id": "ce843939",
   "metadata": {},
   "source": [
    "# INTRODUCTION\n",
    "\n",
    "This case study is the Capstone Project of **Google Data Analytics Professional Certificate**. The **6 steps of Data Analysis** is used to present this analysis.\n",
    "\n",
    "Title: **Cyclistic Case Study**\n",
    "\n",
    "Author: Preeteesh Raja Kunapalli\n",
    "\n",
    "Date: 25th January 2022\n",
    "________________________________________________________________________________________________________________________________"
   ]
  },
  {
   "attachments": {
    "download.png": {
     "image/png": "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"
    }
   },
   "cell_type": "markdown",
   "id": "023d3c42",
   "metadata": {},
   "source": [
    "![download.png](attachment:download.png)"
   ]
  },
  {
   "cell_type": "markdown",
   "id": "6758cc15",
   "metadata": {},
   "source": [
    "## Case Study: How Does a Bike-Share Navigate Speedy Success?"
   ]
  },
  {
   "cell_type": "markdown",
   "id": "918d72c8",
   "metadata": {},
   "source": [
    "# STEP 1 : ASK"
   ]
  },
  {
   "cell_type": "markdown",
   "id": "a116ef25",
   "metadata": {},
   "source": [
    "### 1.0 Background\n",
    "\n",
    "In 2016, Cyclistic launched a successful bike-share offering. Since then, the program has grown to a fleet of 5,824 bicycles that are geotracked and locked into a network of 692 stations across Chicago. The bikes can be unlocked from one station and\n",
    "returned to any other station in the system anytime.\n",
    "\n",
    "Until now, Cyclistic’s marketing strategy relied on building general awareness and appealing to broad consumer segments.\n",
    "One approach that helped make these things possible was the flexibility of its pricing plans: single-ride passes, full-day passes, and annual memberships. Customers who purchase **single-ride or full-day passes are referred to as casual riders**.  **Customers who purchase annual memberships are Cyclistic members**."
   ]
  },
  {
   "cell_type": "markdown",
   "id": "5778f4ad",
   "metadata": {},
   "source": [
    "### 1.2 Business Task:\n",
    "Analyze how casual riders and annual members use Cyclistic bikes differently. From these insights, my team will design a new marketing strategy to convert **casual riders into annual members**. "
   ]
  },
  {
   "cell_type": "markdown",
   "id": "2c68dfe7",
   "metadata": {},
   "source": [
    "### 1.3 Business Objectives:\n",
    "\n",
    "1. How do annual members and casual riders use Cyclistic bikes differently?\n",
    "2. Why would casual riders buy Cyclistic annual memberships?\n",
    "3. How can Cyclistic use digital media to influence casual riders to become members?"
   ]
  },
  {
   "cell_type": "markdown",
   "id": "ca94a731",
   "metadata": {},
   "source": [
    "### 1.4 Deliverables:\n",
    "\n",
    "1. A clear statement of the business task\n",
    "2. A description of all data sources used\n",
    "3. Documentation of any cleaning or manipulation of data\n",
    "4. A summary of your analysis\n",
    "5. Supporting visualizations and key findings\n",
    "6. Your top three recommendations based on your analysis"
   ]
  },
  {
   "cell_type": "markdown",
   "id": "c8e92055",
   "metadata": {},
   "source": [
    "# STEP 2 : PREPARE"
   ]
  },
  {
   "cell_type": "markdown",
   "id": "cd6a8d4c",
   "metadata": {},
   "source": [
    "### 2.1 Information on Data Source:\n",
    "1. You will use Cyclistic’s historical trip data to analyze and identify trends. [Download the previous 12 months of Cyclistic trip data here](https://divvy-tripdata.s3.amazonaws.com/index.html).\n",
    "2. The data has been made available by Motivate International Inc. under this [license](https://ride.divvybikes.com/data-license-agreement)"
   ]
  },
  {
   "cell_type": "markdown",
   "id": "87c18640",
   "metadata": {},
   "source": [
    "### 2.2 Advantages of Data Set:\n",
    "1. This Data is from recent 12 months of data.\n",
    "2. This Dataset can answer all the questions asked by Stakeholders."
   ]
  },
  {
   "cell_type": "markdown",
   "id": "aa2d062d",
   "metadata": {},
   "source": [
    "### 2.3 Is Data ROCCC?\n",
    "\n",
    "A good data source is ROCCC which stands for **R**eliable, **O**riginal, **C**omprehensive, **C**urrent, and **C**ited.\n",
    "\n",
    "1. Reliable - HIGH - Reliable as it has 5595063 entries.\n",
    "2. Original - MED - Second Party Provider (Motivate International Inc.)\n",
    "3. Comprehensive - MED - Parameters match most of Cyclist parameters\n",
    "4. Current - HIGH - Data is Recently Updated and is more relevant\n",
    "5. Cited - MED - Data collected from First party, hence known.\n",
    "\n",
    "Overall, the dataset is considered GOOD quality data and it is recommended to produce business recommendations based on this data."
   ]
  },
  {
   "cell_type": "markdown",
   "id": "8a04645d",
   "metadata": {},
   "source": [
    "### 2.4 Data Selection:\n",
    "The following file is selected and copied for analysis.\n",
    "\n",
    "- Previous 12 months data is selected."
   ]
  },
  {
   "cell_type": "markdown",
   "id": "eb9e2e6d",
   "metadata": {},
   "source": [
    "# STEP 3 : PROCESS\n",
    "\n",
    "We are using Python to prepare and process the data"
   ]
  },
  {
   "cell_type": "markdown",
   "id": "44e8aa41",
   "metadata": {},
   "source": [
    "### 3.1 Preparing the Environment\n",
    "\n",
    "The numPy, pandas, matplotlib, seaborn, datetime packages are installed and aliased for easy reading. "
   ]
  },
  {
   "cell_type": "code",
   "execution_count": 2,
   "id": "2e94ed22",
   "metadata": {},
   "outputs": [],
   "source": [
    "import pandas as pd\n",
    "import numpy as np\n",
    "import matplotlib.pyplot as plt\n",
    "import seaborn as sns\n",
    "import datetime"
   ]
  },
  {
   "cell_type": "markdown",
   "id": "48c78d1f",
   "metadata": {},
   "source": [
    "### 3.2 Importing data set\n",
    "Reading in the selected file. "
   ]
  },
  {
   "cell_type": "code",
   "execution_count": 3,
   "id": "4f4dab07",
   "metadata": {},
   "outputs": [],
   "source": [
    "data_month1 = pd.read_csv('202101-divvy-tripdata.csv')\n",
    "data_month2 = pd.read_csv('202102-divvy-tripdata.csv')\n",
    "data_month3 = pd.read_csv('202103-divvy-tripdata.csv')\n",
    "data_month4 = pd.read_csv('202104-divvy-tripdata.csv')\n",
    "data_month5 = pd.read_csv('202105-divvy-tripdata.csv')\n",
    "data_month6 = pd.read_csv('202106-divvy-tripdata.csv')\n",
    "data_month7 = pd.read_csv('202107-divvy-tripdata.csv')\n",
    "data_month8 = pd.read_csv('202108-divvy-tripdata.csv')\n",
    "data_month9 = pd.read_csv('202109-divvy-tripdata.csv')\n",
    "data_month10 = pd.read_csv('202110-divvy-tripdata.csv')\n",
    "data_month11 = pd.read_csv('202111-divvy-tripdata.csv')\n",
    "data_month12 = pd.read_csv('202112-divvy-tripdata.csv')"
   ]
  },
  {
   "cell_type": "markdown",
   "id": "7190948b",
   "metadata": {},
   "source": [
    "### 3.3 Data cleaning and manipulation\n",
    "\n",
    "#### Steps\n",
    "\n",
    "1. Observe and familiarize with data\n",
    "\n",
    "2. Check for null or missing values\n",
    "\n",
    "3. Check for data integrity"
   ]
  },
  {
   "cell_type": "markdown",
   "id": "12d3b2c1",
   "metadata": {},
   "source": [
    "#### Combining all the Datasets and making one data set"
   ]
  },
  {
   "cell_type": "code",
   "execution_count": 4,
   "id": "6e0552f3",
   "metadata": {},
   "outputs": [
    {
     "data": {
      "text/html": [
       "<div>\n",
       "<style scoped>\n",
       "    .dataframe tbody tr th:only-of-type {\n",
       "        vertical-align: middle;\n",
       "    }\n",
       "\n",
       "    .dataframe tbody tr th {\n",
       "        vertical-align: top;\n",
       "    }\n",
       "\n",
       "    .dataframe thead th {\n",
       "        text-align: right;\n",
       "    }\n",
       "</style>\n",
       "<table border=\"1\" class=\"dataframe\">\n",
       "  <thead>\n",
       "    <tr style=\"text-align: right;\">\n",
       "      <th></th>\n",
       "      <th>ride_id</th>\n",
       "      <th>rideable_type</th>\n",
       "      <th>started_at</th>\n",
       "      <th>ended_at</th>\n",
       "      <th>start_station_name</th>\n",
       "      <th>start_station_id</th>\n",
       "      <th>end_station_name</th>\n",
       "      <th>end_station_id</th>\n",
       "      <th>start_lat</th>\n",
       "      <th>start_lng</th>\n",
       "      <th>end_lat</th>\n",
       "      <th>end_lng</th>\n",
       "      <th>member_casual</th>\n",
       "    </tr>\n",
       "  </thead>\n",
       "  <tbody>\n",
       "    <tr>\n",
       "      <th>0</th>\n",
       "      <td>E19E6F1B8D4C42ED</td>\n",
       "      <td>electric_bike</td>\n",
       "      <td>2021-01-23 16:14:19</td>\n",
       "      <td>2021-01-23 16:24:44</td>\n",
       "      <td>California Ave &amp; Cortez St</td>\n",
       "      <td>17660</td>\n",
       "      <td>NaN</td>\n",
       "      <td>NaN</td>\n",
       "      <td>41.900341</td>\n",
       "      <td>-87.696743</td>\n",
       "      <td>41.890000</td>\n",
       "      <td>-87.720000</td>\n",
       "      <td>member</td>\n",
       "    </tr>\n",
       "    <tr>\n",
       "      <th>1</th>\n",
       "      <td>DC88F20C2C55F27F</td>\n",
       "      <td>electric_bike</td>\n",
       "      <td>2021-01-27 18:43:08</td>\n",
       "      <td>2021-01-27 18:47:12</td>\n",
       "      <td>California Ave &amp; Cortez St</td>\n",
       "      <td>17660</td>\n",
       "      <td>NaN</td>\n",
       "      <td>NaN</td>\n",
       "      <td>41.900333</td>\n",
       "      <td>-87.696707</td>\n",
       "      <td>41.900000</td>\n",
       "      <td>-87.690000</td>\n",
       "      <td>member</td>\n",
       "    </tr>\n",
       "    <tr>\n",
       "      <th>2</th>\n",
       "      <td>EC45C94683FE3F27</td>\n",
       "      <td>electric_bike</td>\n",
       "      <td>2021-01-21 22:35:54</td>\n",
       "      <td>2021-01-21 22:37:14</td>\n",
       "      <td>California Ave &amp; Cortez St</td>\n",
       "      <td>17660</td>\n",
       "      <td>NaN</td>\n",
       "      <td>NaN</td>\n",
       "      <td>41.900313</td>\n",
       "      <td>-87.696643</td>\n",
       "      <td>41.900000</td>\n",
       "      <td>-87.700000</td>\n",
       "      <td>member</td>\n",
       "    </tr>\n",
       "    <tr>\n",
       "      <th>3</th>\n",
       "      <td>4FA453A75AE377DB</td>\n",
       "      <td>electric_bike</td>\n",
       "      <td>2021-01-07 13:31:13</td>\n",
       "      <td>2021-01-07 13:42:55</td>\n",
       "      <td>California Ave &amp; Cortez St</td>\n",
       "      <td>17660</td>\n",
       "      <td>NaN</td>\n",
       "      <td>NaN</td>\n",
       "      <td>41.900399</td>\n",
       "      <td>-87.696662</td>\n",
       "      <td>41.920000</td>\n",
       "      <td>-87.690000</td>\n",
       "      <td>member</td>\n",
       "    </tr>\n",
       "    <tr>\n",
       "      <th>4</th>\n",
       "      <td>BE5E8EB4E7263A0B</td>\n",
       "      <td>electric_bike</td>\n",
       "      <td>2021-01-23 02:24:02</td>\n",
       "      <td>2021-01-23 02:24:45</td>\n",
       "      <td>California Ave &amp; Cortez St</td>\n",
       "      <td>17660</td>\n",
       "      <td>NaN</td>\n",
       "      <td>NaN</td>\n",
       "      <td>41.900326</td>\n",
       "      <td>-87.696697</td>\n",
       "      <td>41.900000</td>\n",
       "      <td>-87.700000</td>\n",
       "      <td>casual</td>\n",
       "    </tr>\n",
       "    <tr>\n",
       "      <th>...</th>\n",
       "      <td>...</td>\n",
       "      <td>...</td>\n",
       "      <td>...</td>\n",
       "      <td>...</td>\n",
       "      <td>...</td>\n",
       "      <td>...</td>\n",
       "      <td>...</td>\n",
       "      <td>...</td>\n",
       "      <td>...</td>\n",
       "      <td>...</td>\n",
       "      <td>...</td>\n",
       "      <td>...</td>\n",
       "      <td>...</td>\n",
       "    </tr>\n",
       "    <tr>\n",
       "      <th>247535</th>\n",
       "      <td>847431F3D5353AB7</td>\n",
       "      <td>electric_bike</td>\n",
       "      <td>2021-12-12 13:36:55</td>\n",
       "      <td>2021-12-12 13:56:08</td>\n",
       "      <td>Canal St &amp; Madison St</td>\n",
       "      <td>13341</td>\n",
       "      <td>NaN</td>\n",
       "      <td>NaN</td>\n",
       "      <td>41.882289</td>\n",
       "      <td>-87.639752</td>\n",
       "      <td>41.890000</td>\n",
       "      <td>-87.610000</td>\n",
       "      <td>casual</td>\n",
       "    </tr>\n",
       "    <tr>\n",
       "      <th>247536</th>\n",
       "      <td>CF407BBC3B9FAD63</td>\n",
       "      <td>electric_bike</td>\n",
       "      <td>2021-12-06 19:37:50</td>\n",
       "      <td>2021-12-06 19:44:51</td>\n",
       "      <td>Canal St &amp; Madison St</td>\n",
       "      <td>13341</td>\n",
       "      <td>Kingsbury St &amp; Kinzie St</td>\n",
       "      <td>KA1503000043</td>\n",
       "      <td>41.882123</td>\n",
       "      <td>-87.640053</td>\n",
       "      <td>41.889106</td>\n",
       "      <td>-87.638862</td>\n",
       "      <td>member</td>\n",
       "    </tr>\n",
       "    <tr>\n",
       "      <th>247537</th>\n",
       "      <td>60BB69EBF5440E92</td>\n",
       "      <td>electric_bike</td>\n",
       "      <td>2021-12-02 08:57:04</td>\n",
       "      <td>2021-12-02 09:05:21</td>\n",
       "      <td>Canal St &amp; Madison St</td>\n",
       "      <td>13341</td>\n",
       "      <td>Dearborn St &amp; Monroe St</td>\n",
       "      <td>TA1305000006</td>\n",
       "      <td>41.881956</td>\n",
       "      <td>-87.639955</td>\n",
       "      <td>41.880254</td>\n",
       "      <td>-87.629603</td>\n",
       "      <td>member</td>\n",
       "    </tr>\n",
       "    <tr>\n",
       "      <th>247538</th>\n",
       "      <td>C414F654A28635B8</td>\n",
       "      <td>electric_bike</td>\n",
       "      <td>2021-12-13 09:00:26</td>\n",
       "      <td>2021-12-13 09:14:39</td>\n",
       "      <td>Lawndale Ave &amp; 16th St</td>\n",
       "      <td>362.0</td>\n",
       "      <td>NaN</td>\n",
       "      <td>NaN</td>\n",
       "      <td>41.860000</td>\n",
       "      <td>-87.720000</td>\n",
       "      <td>41.850000</td>\n",
       "      <td>-87.710000</td>\n",
       "      <td>member</td>\n",
       "    </tr>\n",
       "    <tr>\n",
       "      <th>247539</th>\n",
       "      <td>37AC57E34B2E7E97</td>\n",
       "      <td>classic_bike</td>\n",
       "      <td>2021-12-13 08:45:32</td>\n",
       "      <td>2021-12-13 08:49:09</td>\n",
       "      <td>Michigan Ave &amp; Jackson Blvd</td>\n",
       "      <td>TA1309000002</td>\n",
       "      <td>Dearborn St &amp; Monroe St</td>\n",
       "      <td>TA1305000006</td>\n",
       "      <td>41.877850</td>\n",
       "      <td>-87.624080</td>\n",
       "      <td>41.881320</td>\n",
       "      <td>-87.629521</td>\n",
       "      <td>member</td>\n",
       "    </tr>\n",
       "  </tbody>\n",
       "</table>\n",
       "<p>5595063 rows × 13 columns</p>\n",
       "</div>"
      ],
      "text/plain": [
       "                 ride_id  rideable_type           started_at  \\\n",
       "0       E19E6F1B8D4C42ED  electric_bike  2021-01-23 16:14:19   \n",
       "1       DC88F20C2C55F27F  electric_bike  2021-01-27 18:43:08   \n",
       "2       EC45C94683FE3F27  electric_bike  2021-01-21 22:35:54   \n",
       "3       4FA453A75AE377DB  electric_bike  2021-01-07 13:31:13   \n",
       "4       BE5E8EB4E7263A0B  electric_bike  2021-01-23 02:24:02   \n",
       "...                  ...            ...                  ...   \n",
       "247535  847431F3D5353AB7  electric_bike  2021-12-12 13:36:55   \n",
       "247536  CF407BBC3B9FAD63  electric_bike  2021-12-06 19:37:50   \n",
       "247537  60BB69EBF5440E92  electric_bike  2021-12-02 08:57:04   \n",
       "247538  C414F654A28635B8  electric_bike  2021-12-13 09:00:26   \n",
       "247539  37AC57E34B2E7E97   classic_bike  2021-12-13 08:45:32   \n",
       "\n",
       "                   ended_at           start_station_name start_station_id  \\\n",
       "0       2021-01-23 16:24:44   California Ave & Cortez St            17660   \n",
       "1       2021-01-27 18:47:12   California Ave & Cortez St            17660   \n",
       "2       2021-01-21 22:37:14   California Ave & Cortez St            17660   \n",
       "3       2021-01-07 13:42:55   California Ave & Cortez St            17660   \n",
       "4       2021-01-23 02:24:45   California Ave & Cortez St            17660   \n",
       "...                     ...                          ...              ...   \n",
       "247535  2021-12-12 13:56:08        Canal St & Madison St            13341   \n",
       "247536  2021-12-06 19:44:51        Canal St & Madison St            13341   \n",
       "247537  2021-12-02 09:05:21        Canal St & Madison St            13341   \n",
       "247538  2021-12-13 09:14:39       Lawndale Ave & 16th St            362.0   \n",
       "247539  2021-12-13 08:49:09  Michigan Ave & Jackson Blvd     TA1309000002   \n",
       "\n",
       "                end_station_name end_station_id  start_lat  start_lng  \\\n",
       "0                            NaN            NaN  41.900341 -87.696743   \n",
       "1                            NaN            NaN  41.900333 -87.696707   \n",
       "2                            NaN            NaN  41.900313 -87.696643   \n",
       "3                            NaN            NaN  41.900399 -87.696662   \n",
       "4                            NaN            NaN  41.900326 -87.696697   \n",
       "...                          ...            ...        ...        ...   \n",
       "247535                       NaN            NaN  41.882289 -87.639752   \n",
       "247536  Kingsbury St & Kinzie St   KA1503000043  41.882123 -87.640053   \n",
       "247537   Dearborn St & Monroe St   TA1305000006  41.881956 -87.639955   \n",
       "247538                       NaN            NaN  41.860000 -87.720000   \n",
       "247539   Dearborn St & Monroe St   TA1305000006  41.877850 -87.624080   \n",
       "\n",
       "          end_lat    end_lng member_casual  \n",
       "0       41.890000 -87.720000        member  \n",
       "1       41.900000 -87.690000        member  \n",
       "2       41.900000 -87.700000        member  \n",
       "3       41.920000 -87.690000        member  \n",
       "4       41.900000 -87.700000        casual  \n",
       "...           ...        ...           ...  \n",
       "247535  41.890000 -87.610000        casual  \n",
       "247536  41.889106 -87.638862        member  \n",
       "247537  41.880254 -87.629603        member  \n",
       "247538  41.850000 -87.710000        member  \n",
       "247539  41.881320 -87.629521        member  \n",
       "\n",
       "[5595063 rows x 13 columns]"
      ]
     },
     "execution_count": 4,
     "metadata": {},
     "output_type": "execute_result"
    }
   ],
   "source": [
    "full_data = [data_month1,data_month2,data_month3,data_month4,data_month5,data_month6,data_month7,data_month8,data_month9,data_month10,data_month11,data_month12]\n",
    "df = pd.concat(full_data)\n",
    "df"
   ]
  },
  {
   "cell_type": "markdown",
   "id": "2600819a",
   "metadata": {},
   "source": [
    "#### Checking the dimension of data"
   ]
  },
  {
   "cell_type": "code",
   "execution_count": 5,
   "id": "ab1451ff",
   "metadata": {},
   "outputs": [
    {
     "data": {
      "text/plain": [
       "(5595063, 13)"
      ]
     },
     "execution_count": 5,
     "metadata": {},
     "output_type": "execute_result"
    }
   ],
   "source": [
    "df.shape"
   ]
  },
  {
   "cell_type": "markdown",
   "id": "b9e7b1ba",
   "metadata": {},
   "source": [
    "#### To get information about the dataframe"
   ]
  },
  {
   "cell_type": "code",
   "execution_count": 6,
   "id": "411cfec6",
   "metadata": {},
   "outputs": [
    {
     "name": "stdout",
     "output_type": "stream",
     "text": [
      "<class 'pandas.core.frame.DataFrame'>\n",
      "Int64Index: 5595063 entries, 0 to 247539\n",
      "Data columns (total 13 columns):\n",
      " #   Column              Dtype  \n",
      "---  ------              -----  \n",
      " 0   ride_id             object \n",
      " 1   rideable_type       object \n",
      " 2   started_at          object \n",
      " 3   ended_at            object \n",
      " 4   start_station_name  object \n",
      " 5   start_station_id    object \n",
      " 6   end_station_name    object \n",
      " 7   end_station_id      object \n",
      " 8   start_lat           float64\n",
      " 9   start_lng           float64\n",
      " 10  end_lat             float64\n",
      " 11  end_lng             float64\n",
      " 12  member_casual       object \n",
      "dtypes: float64(4), object(9)\n",
      "memory usage: 597.6+ MB\n"
     ]
    }
   ],
   "source": [
    "df.info()"
   ]
  },
  {
   "cell_type": "markdown",
   "id": "363037c5",
   "metadata": {},
   "source": [
    "#### Look at TOP5 Rows"
   ]
  },
  {
   "cell_type": "code",
   "execution_count": 7,
   "id": "a5300769",
   "metadata": {},
   "outputs": [
    {
     "data": {
      "text/html": [
       "<div>\n",
       "<style scoped>\n",
       "    .dataframe tbody tr th:only-of-type {\n",
       "        vertical-align: middle;\n",
       "    }\n",
       "\n",
       "    .dataframe tbody tr th {\n",
       "        vertical-align: top;\n",
       "    }\n",
       "\n",
       "    .dataframe thead th {\n",
       "        text-align: right;\n",
       "    }\n",
       "</style>\n",
       "<table border=\"1\" class=\"dataframe\">\n",
       "  <thead>\n",
       "    <tr style=\"text-align: right;\">\n",
       "      <th></th>\n",
       "      <th>ride_id</th>\n",
       "      <th>rideable_type</th>\n",
       "      <th>started_at</th>\n",
       "      <th>ended_at</th>\n",
       "      <th>start_station_name</th>\n",
       "      <th>start_station_id</th>\n",
       "      <th>end_station_name</th>\n",
       "      <th>end_station_id</th>\n",
       "      <th>start_lat</th>\n",
       "      <th>start_lng</th>\n",
       "      <th>end_lat</th>\n",
       "      <th>end_lng</th>\n",
       "      <th>member_casual</th>\n",
       "    </tr>\n",
       "  </thead>\n",
       "  <tbody>\n",
       "    <tr>\n",
       "      <th>0</th>\n",
       "      <td>E19E6F1B8D4C42ED</td>\n",
       "      <td>electric_bike</td>\n",
       "      <td>2021-01-23 16:14:19</td>\n",
       "      <td>2021-01-23 16:24:44</td>\n",
       "      <td>California Ave &amp; Cortez St</td>\n",
       "      <td>17660</td>\n",
       "      <td>NaN</td>\n",
       "      <td>NaN</td>\n",
       "      <td>41.900341</td>\n",
       "      <td>-87.696743</td>\n",
       "      <td>41.89</td>\n",
       "      <td>-87.72</td>\n",
       "      <td>member</td>\n",
       "    </tr>\n",
       "    <tr>\n",
       "      <th>1</th>\n",
       "      <td>DC88F20C2C55F27F</td>\n",
       "      <td>electric_bike</td>\n",
       "      <td>2021-01-27 18:43:08</td>\n",
       "      <td>2021-01-27 18:47:12</td>\n",
       "      <td>California Ave &amp; Cortez St</td>\n",
       "      <td>17660</td>\n",
       "      <td>NaN</td>\n",
       "      <td>NaN</td>\n",
       "      <td>41.900333</td>\n",
       "      <td>-87.696707</td>\n",
       "      <td>41.90</td>\n",
       "      <td>-87.69</td>\n",
       "      <td>member</td>\n",
       "    </tr>\n",
       "    <tr>\n",
       "      <th>2</th>\n",
       "      <td>EC45C94683FE3F27</td>\n",
       "      <td>electric_bike</td>\n",
       "      <td>2021-01-21 22:35:54</td>\n",
       "      <td>2021-01-21 22:37:14</td>\n",
       "      <td>California Ave &amp; Cortez St</td>\n",
       "      <td>17660</td>\n",
       "      <td>NaN</td>\n",
       "      <td>NaN</td>\n",
       "      <td>41.900313</td>\n",
       "      <td>-87.696643</td>\n",
       "      <td>41.90</td>\n",
       "      <td>-87.70</td>\n",
       "      <td>member</td>\n",
       "    </tr>\n",
       "    <tr>\n",
       "      <th>3</th>\n",
       "      <td>4FA453A75AE377DB</td>\n",
       "      <td>electric_bike</td>\n",
       "      <td>2021-01-07 13:31:13</td>\n",
       "      <td>2021-01-07 13:42:55</td>\n",
       "      <td>California Ave &amp; Cortez St</td>\n",
       "      <td>17660</td>\n",
       "      <td>NaN</td>\n",
       "      <td>NaN</td>\n",
       "      <td>41.900399</td>\n",
       "      <td>-87.696662</td>\n",
       "      <td>41.92</td>\n",
       "      <td>-87.69</td>\n",
       "      <td>member</td>\n",
       "    </tr>\n",
       "    <tr>\n",
       "      <th>4</th>\n",
       "      <td>BE5E8EB4E7263A0B</td>\n",
       "      <td>electric_bike</td>\n",
       "      <td>2021-01-23 02:24:02</td>\n",
       "      <td>2021-01-23 02:24:45</td>\n",
       "      <td>California Ave &amp; Cortez St</td>\n",
       "      <td>17660</td>\n",
       "      <td>NaN</td>\n",
       "      <td>NaN</td>\n",
       "      <td>41.900326</td>\n",
       "      <td>-87.696697</td>\n",
       "      <td>41.90</td>\n",
       "      <td>-87.70</td>\n",
       "      <td>casual</td>\n",
       "    </tr>\n",
       "  </tbody>\n",
       "</table>\n",
       "</div>"
      ],
      "text/plain": [
       "            ride_id  rideable_type           started_at             ended_at  \\\n",
       "0  E19E6F1B8D4C42ED  electric_bike  2021-01-23 16:14:19  2021-01-23 16:24:44   \n",
       "1  DC88F20C2C55F27F  electric_bike  2021-01-27 18:43:08  2021-01-27 18:47:12   \n",
       "2  EC45C94683FE3F27  electric_bike  2021-01-21 22:35:54  2021-01-21 22:37:14   \n",
       "3  4FA453A75AE377DB  electric_bike  2021-01-07 13:31:13  2021-01-07 13:42:55   \n",
       "4  BE5E8EB4E7263A0B  electric_bike  2021-01-23 02:24:02  2021-01-23 02:24:45   \n",
       "\n",
       "           start_station_name start_station_id end_station_name  \\\n",
       "0  California Ave & Cortez St            17660              NaN   \n",
       "1  California Ave & Cortez St            17660              NaN   \n",
       "2  California Ave & Cortez St            17660              NaN   \n",
       "3  California Ave & Cortez St            17660              NaN   \n",
       "4  California Ave & Cortez St            17660              NaN   \n",
       "\n",
       "  end_station_id  start_lat  start_lng  end_lat  end_lng member_casual  \n",
       "0            NaN  41.900341 -87.696743    41.89   -87.72        member  \n",
       "1            NaN  41.900333 -87.696707    41.90   -87.69        member  \n",
       "2            NaN  41.900313 -87.696643    41.90   -87.70        member  \n",
       "3            NaN  41.900399 -87.696662    41.92   -87.69        member  \n",
       "4            NaN  41.900326 -87.696697    41.90   -87.70        casual  "
      ]
     },
     "execution_count": 7,
     "metadata": {},
     "output_type": "execute_result"
    }
   ],
   "source": [
    "df.head(5)"
   ]
  },
  {
   "cell_type": "markdown",
   "id": "d3040b87",
   "metadata": {},
   "source": [
    "#### To convert object data type of start_time and end_time columns into datetime data type "
   ]
  },
  {
   "cell_type": "code",
   "execution_count": 8,
   "id": "0f58cda5",
   "metadata": {},
   "outputs": [],
   "source": [
    "df[\"start_time\"] = pd.to_datetime(df[\"started_at\"])\n",
    "df[\"end_time\"] = pd.to_datetime(df[\"ended_at\"])"
   ]
  },
  {
   "cell_type": "markdown",
   "id": "f663b92e",
   "metadata": {},
   "source": [
    "#### Adding new column - ride_length (ended_at - started_at) to calculate the time travelled"
   ]
  },
  {
   "cell_type": "code",
   "execution_count": 9,
   "id": "39ac4b29",
   "metadata": {},
   "outputs": [
    {
     "data": {
      "text/plain": [
       "0        0 days 00:10:25\n",
       "1        0 days 00:04:04\n",
       "2        0 days 00:01:20\n",
       "3        0 days 00:11:42\n",
       "4        0 days 00:00:43\n",
       "               ...      \n",
       "247535   0 days 00:19:13\n",
       "247536   0 days 00:07:01\n",
       "247537   0 days 00:08:17\n",
       "247538   0 days 00:14:13\n",
       "247539   0 days 00:03:37\n",
       "Name: ride_length, Length: 5595063, dtype: timedelta64[ns]"
      ]
     },
     "execution_count": 9,
     "metadata": {},
     "output_type": "execute_result"
    }
   ],
   "source": [
    "df[\"ride_length\"] = df[\"end_time\"] - df[\"start_time\"]\n",
    "df[\"ride_length\"]"
   ]
  },
  {
   "cell_type": "markdown",
   "id": "7e91cae0",
   "metadata": {},
   "source": [
    "#### To get the updated information about the changes made in the data type of dataframe."
   ]
  },
  {
   "cell_type": "code",
   "execution_count": 10,
   "id": "6f320a9d",
   "metadata": {},
   "outputs": [
    {
     "name": "stdout",
     "output_type": "stream",
     "text": [
      "<class 'pandas.core.frame.DataFrame'>\n",
      "Int64Index: 5595063 entries, 0 to 247539\n",
      "Data columns (total 16 columns):\n",
      " #   Column              Dtype          \n",
      "---  ------              -----          \n",
      " 0   ride_id             object         \n",
      " 1   rideable_type       object         \n",
      " 2   started_at          object         \n",
      " 3   ended_at            object         \n",
      " 4   start_station_name  object         \n",
      " 5   start_station_id    object         \n",
      " 6   end_station_name    object         \n",
      " 7   end_station_id      object         \n",
      " 8   start_lat           float64        \n",
      " 9   start_lng           float64        \n",
      " 10  end_lat             float64        \n",
      " 11  end_lng             float64        \n",
      " 12  member_casual       object         \n",
      " 13  start_time          datetime64[ns] \n",
      " 14  end_time            datetime64[ns] \n",
      " 15  ride_length         timedelta64[ns]\n",
      "dtypes: datetime64[ns](2), float64(4), object(9), timedelta64[ns](1)\n",
      "memory usage: 725.7+ MB\n"
     ]
    }
   ],
   "source": [
    "df.info()"
   ]
  },
  {
   "cell_type": "markdown",
   "id": "d465be29",
   "metadata": {},
   "source": [
    "#### Splitting and extracting the date from \"started_at\" column "
   ]
  },
  {
   "cell_type": "code",
   "execution_count": 11,
   "id": "90a9a15c",
   "metadata": {},
   "outputs": [
    {
     "data": {
      "text/plain": [
       "0         2021-01-23\n",
       "1         2021-01-27\n",
       "2         2021-01-21\n",
       "3         2021-01-07\n",
       "4         2021-01-23\n",
       "             ...    \n",
       "247535    2021-12-12\n",
       "247536    2021-12-06\n",
       "247537    2021-12-02\n",
       "247538    2021-12-13\n",
       "247539    2021-12-13\n",
       "Name: start_date1, Length: 5595063, dtype: object"
      ]
     },
     "execution_count": 11,
     "metadata": {},
     "output_type": "execute_result"
    }
   ],
   "source": [
    "df[\"start_date1\"] = [i.split(\" \")[0] for i in df[\"started_at\"]]\n",
    "df[\"start_date1\"]"
   ]
  },
  {
   "cell_type": "markdown",
   "id": "77630f5a",
   "metadata": {},
   "source": [
    "#### Converting start_date1 into datetime data type"
   ]
  },
  {
   "cell_type": "code",
   "execution_count": 12,
   "id": "aa432f37",
   "metadata": {},
   "outputs": [
    {
     "data": {
      "text/plain": [
       "0        2021-01-23\n",
       "1        2021-01-27\n",
       "2        2021-01-21\n",
       "3        2021-01-07\n",
       "4        2021-01-23\n",
       "            ...    \n",
       "247535   2021-12-12\n",
       "247536   2021-12-06\n",
       "247537   2021-12-02\n",
       "247538   2021-12-13\n",
       "247539   2021-12-13\n",
       "Name: start_date1, Length: 5595063, dtype: datetime64[ns]"
      ]
     },
     "execution_count": 12,
     "metadata": {},
     "output_type": "execute_result"
    }
   ],
   "source": [
    "df[\"start_date1\"] = pd.to_datetime(df[\"start_date1\"])\n",
    "df[\"start_date1\"]"
   ]
  },
  {
   "cell_type": "markdown",
   "id": "a37f80bc",
   "metadata": {},
   "source": [
    "#### Finding the weekday of the date "
   ]
  },
  {
   "cell_type": "code",
   "execution_count": 13,
   "id": "7d44937a",
   "metadata": {},
   "outputs": [
    {
     "data": {
      "text/plain": [
       "array([5, 2, 3, 0, 6, 4, 1], dtype=int64)"
      ]
     },
     "execution_count": 13,
     "metadata": {},
     "output_type": "execute_result"
    }
   ],
   "source": [
    "df['week_day'] = df[\"start_date1\"].apply(lambda x: x.weekday())\n",
    "df['week_day'].unique()"
   ]
  },
  {
   "cell_type": "markdown",
   "id": "f3408ee7",
   "metadata": {},
   "source": [
    "#### Converting weekday values into weekday "
   ]
  },
  {
   "cell_type": "code",
   "execution_count": 14,
   "id": "86329b55",
   "metadata": {},
   "outputs": [
    {
     "data": {
      "text/plain": [
       "0            Friday\n",
       "1           Tuesday\n",
       "2         Wednesday\n",
       "3         Wednesday\n",
       "4            Friday\n",
       "            ...    \n",
       "247535     Saturday\n",
       "247536       Sunday\n",
       "247537    Wednesday\n",
       "247538       Sunday\n",
       "247539       Sunday\n",
       "Name: week_day, Length: 5595063, dtype: object"
      ]
     },
     "execution_count": 14,
     "metadata": {},
     "output_type": "execute_result"
    }
   ],
   "source": [
    "dict1 = {0: \"Sunday\", 1: \"Monday\", 2: \"Tuesday\", 3: \"Wednesday\", 4: \"Thursday\", 5: \"Friday\", 6: \"Saturday\"}\n",
    "df['week_day'] = df['week_day'].apply(lambda y: dict1[y])\n",
    "df['week_day']"
   ]
  },
  {
   "cell_type": "markdown",
   "id": "161f8030",
   "metadata": {},
   "source": [
    "#### To sort the dataframe by start date in ascending order "
   ]
  },
  {
   "cell_type": "code",
   "execution_count": 15,
   "id": "f7147a9a",
   "metadata": {},
   "outputs": [],
   "source": [
    "df.sort_values(by=['started_at'], inplace=True, ascending=True)"
   ]
  },
  {
   "cell_type": "markdown",
   "id": "1d39a6d6",
   "metadata": {},
   "source": [
    "#### Checking and Drop all rows with any NaN values "
   ]
  },
  {
   "cell_type": "code",
   "execution_count": 16,
   "id": "691e5a54",
   "metadata": {},
   "outputs": [],
   "source": [
    "df.isnull()\n",
    "df_cleaned = df.dropna()\n",
    "df = df_cleaned"
   ]
  },
  {
   "cell_type": "markdown",
   "id": "010d46e2",
   "metadata": {},
   "source": [
    "#### To calculate euclidean distance between start and end point."
   ]
  },
  {
   "cell_type": "code",
   "execution_count": 44,
   "id": "46c0f0de",
   "metadata": {},
   "outputs": [
    {
     "data": {
      "text/plain": [
       "78336     0.011455\n",
       "39961     0.022878\n",
       "33916     0.000000\n",
       "33924     0.000000\n",
       "86537     0.094181\n",
       "            ...   \n",
       "131716    0.019518\n",
       "131717    0.018936\n",
       "47588     0.000770\n",
       "52286     0.017074\n",
       "100735    0.005254\n",
       "Name: distance, Length: 4588302, dtype: float64"
      ]
     },
     "execution_count": 44,
     "metadata": {},
     "output_type": "execute_result"
    }
   ],
   "source": [
    "df[\"x\"] = (df[\"end_lat\"] - df[\"start_lat\"])**2\n",
    "df[\"y\"] = (df[\"end_lng\"] - df[\"start_lng\"])**2\n",
    "df[\"distance\"] = (df[\"x\"] + df[\"y\"])**(1/2)\n",
    "df[\"distance\"]"
   ]
  },
  {
   "cell_type": "markdown",
   "id": "70cd0d6b",
   "metadata": {},
   "source": [
    "#### To extract year and month from start date column"
   ]
  },
  {
   "cell_type": "code",
   "execution_count": 18,
   "id": "61117bcd",
   "metadata": {},
   "outputs": [],
   "source": [
    "df['year'] = pd.DatetimeIndex(df[\"start_date1\"]).year\n",
    "df['month'] = pd.DatetimeIndex(df[\"start_date1\"]).month"
   ]
  },
  {
   "cell_type": "markdown",
   "id": "5456e17e",
   "metadata": {},
   "source": [
    "#### To convert object datatype to timedelta"
   ]
  },
  {
   "cell_type": "code",
   "execution_count": 19,
   "id": "63775b61",
   "metadata": {},
   "outputs": [],
   "source": [
    "df[\"ride_len\"] = pd.to_timedelta(df[\"ride_length\"])"
   ]
  },
  {
   "cell_type": "markdown",
   "id": "b9084c55",
   "metadata": {},
   "source": [
    "#### To check if there are any duplicate values in dataframe"
   ]
  },
  {
   "cell_type": "code",
   "execution_count": 20,
   "id": "bd76baf1",
   "metadata": {},
   "outputs": [
    {
     "data": {
      "text/plain": [
       "False"
      ]
     },
     "execution_count": 20,
     "metadata": {},
     "output_type": "execute_result"
    }
   ],
   "source": [
    "df.duplicated().any()"
   ]
  },
  {
   "cell_type": "markdown",
   "id": "8381689e",
   "metadata": {},
   "source": [
    "# STEP 4 : ANALYZE"
   ]
  },
  {
   "cell_type": "markdown",
   "id": "6296fbbf",
   "metadata": {},
   "source": [
    "### 4.1 Perform calculations\n",
    "Pulling the statistics of df for analysis:"
   ]
  },
  {
   "cell_type": "markdown",
   "id": "29e90cf3",
   "metadata": {},
   "source": [
    "#### To calculate mean of ride length of all types of users"
   ]
  },
  {
   "cell_type": "code",
   "execution_count": 21,
   "id": "c0c8b331",
   "metadata": {},
   "outputs": [
    {
     "data": {
      "text/plain": [
       "Timedelta('0 days 00:21:48.637676421')"
      ]
     },
     "execution_count": 21,
     "metadata": {},
     "output_type": "execute_result"
    }
   ],
   "source": [
    "mean_ride_length = df[\"ride_len\"].mean()\n",
    "mean_ride_length"
   ]
  },
  {
   "cell_type": "markdown",
   "id": "224b5da1",
   "metadata": {},
   "source": [
    "#### Calculate the max ride_length of all types of users"
   ]
  },
  {
   "cell_type": "code",
   "execution_count": 22,
   "id": "38d84759",
   "metadata": {},
   "outputs": [
    {
     "data": {
      "text/plain": [
       "Timedelta('38 days 20:24:09')"
      ]
     },
     "execution_count": 22,
     "metadata": {},
     "output_type": "execute_result"
    }
   ],
   "source": [
    "max_ride_length = df[\"ride_len\"].max()\n",
    "max_ride_length"
   ]
  },
  {
   "cell_type": "markdown",
   "id": "8c621b72",
   "metadata": {},
   "source": [
    "#### To calculate mean ride length for member"
   ]
  },
  {
   "cell_type": "code",
   "execution_count": 23,
   "id": "32fd2f04",
   "metadata": {},
   "outputs": [
    {
     "data": {
      "text/plain": [
       "Timedelta('0 days 00:13:10.983923922')"
      ]
     },
     "execution_count": 23,
     "metadata": {},
     "output_type": "execute_result"
    }
   ],
   "source": [
    "mean_ride_length_member = df[df[\"member_casual\"] == \"member\"]\n",
    "mean_ride_length_member = mean_ride_length_member[\"ride_len\"].mean()\n",
    "mean_ride_length_member"
   ]
  },
  {
   "cell_type": "markdown",
   "id": "333fb1d5",
   "metadata": {},
   "source": [
    "#### To calculate mean ride length for casual riders"
   ]
  },
  {
   "cell_type": "code",
   "execution_count": 24,
   "id": "1004e1b8",
   "metadata": {},
   "outputs": [
    {
     "data": {
      "text/plain": [
       "Timedelta('0 days 00:32:30.511407800')"
      ]
     },
     "execution_count": 24,
     "metadata": {},
     "output_type": "execute_result"
    }
   ],
   "source": [
    "mean_ride_length_casual = df[df[\"member_casual\"] == \"casual\"]\n",
    "mean_ride_length_casual = mean_ride_length_casual[\"ride_len\"].mean()\n",
    "mean_ride_length_casual"
   ]
  },
  {
   "cell_type": "markdown",
   "id": "ef380fa1",
   "metadata": {},
   "source": [
    "#### To calculate max ride length for member"
   ]
  },
  {
   "cell_type": "code",
   "execution_count": 25,
   "id": "8ec99e65",
   "metadata": {},
   "outputs": [
    {
     "data": {
      "text/plain": [
       "Timedelta('1 days 00:55:38')"
      ]
     },
     "execution_count": 25,
     "metadata": {},
     "output_type": "execute_result"
    }
   ],
   "source": [
    "max_ride_length_member = df[df[\"member_casual\"] == \"member\"]\n",
    "max_ride_length_member = max_ride_length_member[\"ride_len\"].max()\n",
    "max_ride_length_member"
   ]
  },
  {
   "cell_type": "markdown",
   "id": "db204745",
   "metadata": {},
   "source": [
    "#### To calculate max ride length for casual riders"
   ]
  },
  {
   "cell_type": "code",
   "execution_count": 26,
   "id": "98bc6ebc",
   "metadata": {},
   "outputs": [
    {
     "data": {
      "text/plain": [
       "Timedelta('38 days 20:24:09')"
      ]
     },
     "execution_count": 26,
     "metadata": {},
     "output_type": "execute_result"
    }
   ],
   "source": [
    "max_ride_length_casual = df[df[\"member_casual\"] == \"casual\"]\n",
    "max_ride_length_casual = max_ride_length_casual[\"ride_len\"].max()\n",
    "max_ride_length_casual"
   ]
  },
  {
   "cell_type": "markdown",
   "id": "9f13909a",
   "metadata": {},
   "source": [
    "#### Calculate the mode of week_day for all types of users"
   ]
  },
  {
   "cell_type": "code",
   "execution_count": 27,
   "id": "22590a6e",
   "metadata": {},
   "outputs": [
    {
     "data": {
      "text/plain": [
       "0    Friday\n",
       "dtype: object"
      ]
     },
     "execution_count": 27,
     "metadata": {},
     "output_type": "execute_result"
    }
   ],
   "source": [
    "mode_week_day = df[\"week_day\"].mode()\n",
    "mode_week_day"
   ]
  },
  {
   "cell_type": "markdown",
   "id": "343f503f",
   "metadata": {},
   "source": [
    "#### To calculate mode of week_day for member"
   ]
  },
  {
   "cell_type": "code",
   "execution_count": 28,
   "id": "f75f0b0c",
   "metadata": {},
   "outputs": [
    {
     "data": {
      "text/plain": [
       "0    Tuesday\n",
       "dtype: object"
      ]
     },
     "execution_count": 28,
     "metadata": {},
     "output_type": "execute_result"
    }
   ],
   "source": [
    "mode_week_day_member = df[df[\"member_casual\"] == \"member\"]\n",
    "mode_week_day_member = mode_week_day_member[\"week_day\"].mode()\n",
    "mode_week_day_member"
   ]
  },
  {
   "cell_type": "markdown",
   "id": "b6b6f1d1",
   "metadata": {},
   "source": [
    "#### To calculate mode of week_day for casual"
   ]
  },
  {
   "cell_type": "code",
   "execution_count": 29,
   "id": "d1f44dbf",
   "metadata": {},
   "outputs": [
    {
     "data": {
      "text/plain": [
       "0    Friday\n",
       "dtype: object"
      ]
     },
     "execution_count": 29,
     "metadata": {},
     "output_type": "execute_result"
    }
   ],
   "source": [
    "mode_week_day_casual = df[df[\"member_casual\"] == \"casual\"]\n",
    "mode_week_day_casual = mode_week_day_casual[\"week_day\"].mode()\n",
    "mode_week_day_casual"
   ]
  },
  {
   "cell_type": "markdown",
   "id": "226d202f",
   "metadata": {},
   "source": [
    "#### To Count Total number of  users per each week day"
   ]
  },
  {
   "cell_type": "code",
   "execution_count": 30,
   "id": "70e4f3ac",
   "metadata": {},
   "outputs": [
    {
     "data": {
      "text/plain": [
       "week_day\n",
       "Friday       825413\n",
       "Monday       603069\n",
       "Saturday     715029\n",
       "Sunday       575424\n",
       "Thursday     655832\n",
       "Tuesday      615854\n",
       "Wednesday    597681\n",
       "Name: ride_id, dtype: int64"
      ]
     },
     "execution_count": 30,
     "metadata": {},
     "output_type": "execute_result"
    }
   ],
   "source": [
    "count_users_week_day = df.groupby('week_day')['ride_id'].count()\n",
    "count_users_week_day = count_users_week_day.sort_index()\n",
    "count_users_week_day"
   ]
  },
  {
   "cell_type": "markdown",
   "id": "86d46b36",
   "metadata": {},
   "source": [
    "#### Calculate the number of rides for member by week_day by adding Count of ride_id to Values"
   ]
  },
  {
   "cell_type": "code",
   "execution_count": 31,
   "id": "0d5944fe",
   "metadata": {},
   "outputs": [
    {
     "data": {
      "text/plain": [
       "week_day\n",
       "Friday       357082\n",
       "Monday       388132\n",
       "Saturday     311240\n",
       "Sunday       346488\n",
       "Thursday     365787\n",
       "Tuesday      397720\n",
       "Wednesday    373474\n",
       "Name: ride_id, dtype: int64"
      ]
     },
     "execution_count": 31,
     "metadata": {},
     "output_type": "execute_result"
    }
   ],
   "source": [
    "count_member_week_day = df[df[\"member_casual\"] == \"member\"].groupby('week_day')['ride_id'].count()\n",
    "count_member_week_day"
   ]
  },
  {
   "cell_type": "markdown",
   "id": "689b5763",
   "metadata": {},
   "source": [
    "#### Calculate the number of rides for casual by week_day by adding Count of ride_id to Values"
   ]
  },
  {
   "cell_type": "code",
   "execution_count": 32,
   "id": "b015c7a8",
   "metadata": {},
   "outputs": [
    {
     "data": {
      "text/plain": [
       "week_day\n",
       "Friday       468331\n",
       "Monday       214937\n",
       "Saturday     403789\n",
       "Sunday       228936\n",
       "Thursday     290045\n",
       "Tuesday      218134\n",
       "Wednesday    224207\n",
       "Name: ride_id, dtype: int64"
      ]
     },
     "execution_count": 32,
     "metadata": {},
     "output_type": "execute_result"
    }
   ],
   "source": [
    "count_casual_week_day = df[df[\"member_casual\"] == \"casual\"].groupby('week_day')['ride_id'].count()\n",
    "count_casual_week_day"
   ]
  },
  {
   "cell_type": "markdown",
   "id": "9298fd93",
   "metadata": {},
   "source": [
    "#### To plot graph of Weekday Vs Number Of Rides"
   ]
  },
 ,
  {
   "cell_type": "markdown",
   "id": "3a541211",
   "metadata": {},
   "source": [
    "#### Calculate the average ride_length for users by week_day"
   ]
  },
  {
   "cell_type": "code",
   "execution_count": 34,
   "id": "f568b805",
   "metadata": {},
   "outputs": [
    {
     "data": {
      "text/plain": [
       "week_day\n",
       "Friday      0 days 00:26:11.800441718\n",
       "Monday      0 days 00:18:14.282438659\n",
       "Saturday    0 days 00:27:50.684198822\n",
       "Sunday      0 days 00:20:38.806805068\n",
       "Thursday    0 days 00:20:48.500754766\n",
       "Tuesday     0 days 00:18:03.446682168\n",
       "Wednesday   0 days 00:18:13.616820678\n",
       "Name: ride_len, dtype: timedelta64[ns]"
      ]
     },
     "execution_count": 34,
     "metadata": {},
     "output_type": "execute_result"
    }
   ],
   "source": [
    "user_avg_ride_len_week_day = df.groupby(\"week_day\")['ride_len'].mean(numeric_only=False)\n",
    "user_avg_ride_len_week_day"
   ]
  },
  {
   "cell_type": "markdown",
   "id": "f9c3323e",
   "metadata": {},
   "source": [
    "#### Calculate the average ride_length for members by week_day"
   ]
  },
  {
   "cell_type": "code",
   "execution_count": 35,
   "id": "69f25d94",
   "metadata": {},
   "outputs": [
    {
     "data": {
      "text/plain": [
       "week_day\n",
       "Friday      0 days 00:14:49.157409222\n",
       "Monday      0 days 00:12:23.258115795\n",
       "Saturday    0 days 00:15:11.453033029\n",
       "Sunday      0 days 00:12:43.485575258\n",
       "Thursday    0 days 00:12:47.528777676\n",
       "Tuesday     0 days 00:12:27.408601528\n",
       "Wednesday   0 days 00:12:21.211613124\n",
       "Name: ride_len, dtype: timedelta64[ns]"
      ]
     },
     "execution_count": 35,
     "metadata": {},
     "output_type": "execute_result"
    }
   ],
   "source": [
    "member_avg_ride_len_week_day = df[df[\"member_casual\"] == \"member\"].groupby('week_day')['ride_len'].mean(numeric_only=False)\n",
    "member_avg_ride_len_week_day"
   ]
  },
  {
   "cell_type": "markdown",
   "id": "09848815",
   "metadata": {},
   "source": [
    "#### Calculate the average ride_length for casual by week_day"
   ]
  },
  {
   "cell_type": "code",
   "execution_count": 36,
   "id": "e00d3e9a",
   "metadata": {},
   "outputs": [
    {
     "data": {
      "text/plain": [
       "week_day\n",
       "Friday      0 days 00:34:52.286037012\n",
       "Monday      0 days 00:28:48.160144600\n",
       "Saturday    0 days 00:37:35.898526210\n",
       "Sunday      0 days 00:32:38.191708599\n",
       "Thursday    0 days 00:30:55.073171404\n",
       "Tuesday     0 days 00:28:16.139180503\n",
       "Wednesday   0 days 00:28:00.637665193\n",
       "Name: ride_len, dtype: timedelta64[ns]"
      ]
     },
     "execution_count": 36,
     "metadata": {},
     "output_type": "execute_result"
    }
   ],
   "source": [
    "casual_avg_ride_len_week_day = df[df[\"member_casual\"] == \"casual\"].groupby('week_day')['ride_len'].mean(numeric_only=False)\n",
    "casual_avg_ride_len_week_day"
   ]
  },
  {
   "cell_type": "markdown",
   "id": "777722b1",
   "metadata": {},
   "source": [
    "#### To plot graph of Weekday Vs Average ride length"
   ]
  },
  {
   "cell_type": "code",
   "execution_count": 37,
   "id": "f1ce1ef6",
   "metadata": {},
   "outputs": [
    {
     "data": {
      "image/png": "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\n",
      "text/plain": [
       "<Figure size 432x288 with 1 Axes>"
      ]
     },
     "metadata": {
      "needs_background": "light"
     },
     "output_type": "display_data"
    }
   ],
   "source": [
    "plt.plot(user_avg_ride_len_week_day/pd.Timedelta(minutes=1))\n",
    "plt.plot(member_avg_ride_len_week_day/pd.Timedelta(minutes=1))\n",
    "plt.plot(casual_avg_ride_len_week_day/pd.Timedelta(minutes=1))\n",
    "plt.title(\"The average ride_length for different users by week_day\")\n",
    "plt.legend([\"user\", \"member\", \"casual\"])\n",
    "labels = [\"Sunday\", \"Monday\", \"Tuesday\", \"Wednesday\", \"Thursday\", \"Friday\", \"Saturday\"]\n",
    "plt.xticks(user_avg_ride_len_week_day.index, labels)\n",
    "plt.show()"
   ]
  },
  {
   "cell_type": "markdown",
   "id": "3220a0cc",
   "metadata": {},
   "source": [
    "- Above 2 plots clearly display that Number of rides and Average ride length is quite higher on Tuesday and wednesday."
   ]
  },
  {
   "cell_type": "markdown",
   "id": "43989ea2",
   "metadata": {},
   "source": [
    "#### To extract important features of the dataframe into a new dataframe"
   ]
  },
  {
   "cell_type": "code",
   "execution_count": 38,
   "id": "4d585093",
   "metadata": {},
   "outputs": [
    {
     "data": {
      "text/html": [
       "<div>\n",
       "<style scoped>\n",
       "    .dataframe tbody tr th:only-of-type {\n",
       "        vertical-align: middle;\n",
       "    }\n",
       "\n",
       "    .dataframe tbody tr th {\n",
       "        vertical-align: top;\n",
       "    }\n",
       "\n",
       "    .dataframe thead th {\n",
       "        text-align: right;\n",
       "    }\n",
       "</style>\n",
       "<table border=\"1\" class=\"dataframe\">\n",
       "  <thead>\n",
       "    <tr style=\"text-align: right;\">\n",
       "      <th></th>\n",
       "      <th>ride_id</th>\n",
       "      <th>rideable_type</th>\n",
       "      <th>ride_len</th>\n",
       "      <th>week_day</th>\n",
       "      <th>distance</th>\n",
       "      <th>year</th>\n",
       "      <th>month</th>\n",
       "      <th>member_casual</th>\n",
       "    </tr>\n",
       "  </thead>\n",
       "  <tbody>\n",
       "    <tr>\n",
       "      <th>78336</th>\n",
       "      <td>0D139A3203274B87</td>\n",
       "      <td>classic_bike</td>\n",
       "      <td>0 days 00:06:15</td>\n",
       "      <td>Thursday</td>\n",
       "      <td>0.011455</td>\n",
       "      <td>2021</td>\n",
       "      <td>1</td>\n",
       "      <td>member</td>\n",
       "    </tr>\n",
       "    <tr>\n",
       "      <th>39961</th>\n",
       "      <td>C7AE8E9CDB197A8E</td>\n",
       "      <td>classic_bike</td>\n",
       "      <td>0 days 00:19:41</td>\n",
       "      <td>Thursday</td>\n",
       "      <td>0.022878</td>\n",
       "      <td>2021</td>\n",
       "      <td>1</td>\n",
       "      <td>member</td>\n",
       "    </tr>\n",
       "    <tr>\n",
       "      <th>33916</th>\n",
       "      <td>3097EF26414C7016</td>\n",
       "      <td>classic_bike</td>\n",
       "      <td>0 days 00:00:12</td>\n",
       "      <td>Thursday</td>\n",
       "      <td>0.000000</td>\n",
       "      <td>2021</td>\n",
       "      <td>1</td>\n",
       "      <td>member</td>\n",
       "    </tr>\n",
       "    <tr>\n",
       "      <th>33924</th>\n",
       "      <td>938D5D1998A5470E</td>\n",
       "      <td>classic_bike</td>\n",
       "      <td>0 days 00:00:03</td>\n",
       "      <td>Thursday</td>\n",
       "      <td>0.000000</td>\n",
       "      <td>2021</td>\n",
       "      <td>1</td>\n",
       "      <td>casual</td>\n",
       "    </tr>\n",
       "    <tr>\n",
       "      <th>86537</th>\n",
       "      <td>6604F61AE4B14BC1</td>\n",
       "      <td>electric_bike</td>\n",
       "      <td>0 days 00:31:10</td>\n",
       "      <td>Thursday</td>\n",
       "      <td>0.094181</td>\n",
       "      <td>2021</td>\n",
       "      <td>1</td>\n",
       "      <td>member</td>\n",
       "    </tr>\n",
       "  </tbody>\n",
       "</table>\n",
       "</div>"
      ],
      "text/plain": [
       "                ride_id  rideable_type        ride_len  week_day  distance  \\\n",
       "78336  0D139A3203274B87   classic_bike 0 days 00:06:15  Thursday  0.011455   \n",
       "39961  C7AE8E9CDB197A8E   classic_bike 0 days 00:19:41  Thursday  0.022878   \n",
       "33916  3097EF26414C7016   classic_bike 0 days 00:00:12  Thursday  0.000000   \n",
       "33924  938D5D1998A5470E   classic_bike 0 days 00:00:03  Thursday  0.000000   \n",
       "86537  6604F61AE4B14BC1  electric_bike 0 days 00:31:10  Thursday  0.094181   \n",
       "\n",
       "       year  month member_casual  \n",
       "78336  2021      1        member  \n",
       "39961  2021      1        member  \n",
       "33916  2021      1        member  \n",
       "33924  2021      1        casual  \n",
       "86537  2021      1        member  "
      ]
     },
     "execution_count": 38,
     "metadata": {},
     "output_type": "execute_result"
    }
   ],
   "source": [
    "final_file = df[[\"ride_id\", \"rideable_type\", \"ride_len\", \"week_day\", \"distance\", \"year\", \"month\", \"member_casual\"]]\n",
    "final_file.head(5)"
   ]
  },
  {
   "cell_type": "markdown",
   "id": "1827f88e",
   "metadata": {},
   "source": [
    "# STEP 5 : SHARE\n",
    "\n",
    "In this step, we are creating visualizations and communicating our findings based on our analysis."
   ]
  },
  {
   "cell_type": "markdown",
   "id": "82498c38",
   "metadata": {},
   "source": [
    "### 5.1 Data Visualization and Findings"
   ]
  },
  {
   "cell_type": "markdown",
   "id": "7fa18b69",
   "metadata": {},
   "source": [
    "#### To check the number of users in each type over past 12 months"
   ]
  },
  {
   "cell_type": "code",
   "execution_count": 43,
   "id": "1a0aaff3",
   "metadata": {},
   "outputs": [
    {
     "data": {
      "text/plain": [
       "member    2539923\n",
       "casual    2048379\n",
       "Name: member_casual, dtype: int64"
      ]
     },
     "execution_count": 43,
     "metadata": {},
     "output_type": "execute_result"
    }
   ],
   "source": [
    "member_type = final_file[\"member_casual\"].value_counts()\n",
    "member_type"
   ]
  },
  {
   "cell_type": "markdown",
   "id": "24371468",
   "metadata": {},
   "source": [
    "#### To plot the count plot of users in each type"
   ]
  },
  {
   "cell_type": "code",
   "execution_count": 44,
   "id": "a4559df4",
   "metadata": {},
   "outputs": [
    {
     "data": {
      "image/png": "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\n",
      "text/plain": [
       "<Figure size 432x288 with 1 Axes>"
      ]
     },
     "metadata": {
      "needs_background": "light"
     },
     "output_type": "display_data"
    }
   ],
   "source": [
    "plt.title(\"count of users in each type\")\n",
    "plt.bar(member_type.index, member_type.values)\n",
    "plt.show()"
   ]
  },
  {
   "cell_type": "markdown",
   "id": "050f5bf5",
   "metadata": {},
   "source": [
    "- After Visualizing the above plot we can say the membership holders are higher than casual riders.\n",
    " "
   ]
  },
  {
   "cell_type": "markdown",
   "id": "942128e6",
   "metadata": {},
   "source": [
    "#### To plot the pie chart of users in each type"
   ]
  },
  {
   "cell_type": "code",
   "execution_count": 47,
   "id": "0fce7144",
   "metadata": {
    "scrolled": true
   },
   "outputs": [
    {
     "data": {
      "image/png": "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\n",
      "text/plain": [
       "<Figure size 576x432 with 1 Axes>"
      ]
     },
     "metadata": {},
     "output_type": "display_data"
    }
   ],
   "source": [
    "plt.figure(figsize = (8,6))\n",
    "plt.pie(member_type.values, labels = member_type.index, autopct='%1.1f%%')\n",
    "plt.title(\"Percentage of users in each type\")\n",
    "plt.legend(member_type.index)\n",
    "plt.show()"
   ]
  },
  {
   "cell_type": "markdown",
   "id": "f5384bf3",
   "metadata": {},
   "source": [
    "- Membership holders have occupied more than 50% space in total users of this company.\n",
    "- casual riders have occupied less than 50% space in total users of this company. "
   ]
  },
  {
   "cell_type": "markdown",
   "id": "773f6b60",
   "metadata": {},
   "source": [
    "#### To check the number of users over months"
   ]
  },
  {
   "cell_type": "code",
   "execution_count": 39,
   "id": "ce3b5f2a",
   "metadata": {},
   "outputs": [
    {
     "data": {
      "text/plain": [
       "month  member_casual\n",
       "1      member            68819\n",
       "       casual            14690\n",
       "2      member            34383\n",
       "       casual             8613\n",
       "3      member           130049\n",
       "       casual            75642\n",
       "4      member           177787\n",
       "       casual           120420\n",
       "5      member           234165\n",
       "       casual           216829\n",
       "6      member           304586\n",
       "       casual           304192\n",
       "7      casual           369415\n",
       "       member           322906\n",
       "8      casual           341476\n",
       "       member           332933\n",
       "9      member           328219\n",
       "       casual           292931\n",
       "10     member           288855\n",
       "       casual           189117\n",
       "11     member           185926\n",
       "       casual            69978\n",
       "12     member           131295\n",
       "       casual            45076\n",
       "Name: member_casual, dtype: int64"
      ]
     },
     "execution_count": 39,
     "metadata": {},
     "output_type": "execute_result"
    }
   ],
   "source": [
    "users_over_month = final_file.groupby('month')['member_casual'].value_counts()\n",
    "users_over_month"
   ]
  },
  {
   "cell_type": "markdown",
   "id": "a2add7c7",
   "metadata": {},
   "source": [
    "#### To segregate the number of users into member or casual riders over the months"
   ]
  },
  {
   "cell_type": "code",
   "execution_count": 40,
   "id": "2455747b",
   "metadata": {},
   "outputs": [],
   "source": [
    "list_month = []\n",
    "list_x = []\n",
    "list_y = list(users_over_month.values)\n",
    "for i, j in users_over_month.index:\n",
    "  list_x.append(j)\n",
    "  list_month.append(str(i))"
   ]
  },
  {
   "cell_type": "markdown",
   "id": "3e81474b",
   "metadata": {},
   "source": [
    "#### Plot count of Member and Casual Riders over the months"
   ]
  },
  {
   "cell_type": "code",
   "execution_count": 43,
   "id": "91f42671",
   "metadata": {},
   "outputs": [
    {
     "data": {
      "text/plain": [
       "Text(0.5, 1.0, 'Count of Member and Casual Riders over the months')"
      ]
     },
     "execution_count": 43,
     "metadata": {},
     "output_type": "execute_result"
    },
    {
     "data": {
      "image/png": "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\n",
      "text/plain": [
       "<Figure size 1296x576 with 1 Axes>"
      ]
     },
     "metadata": {
      "needs_background": "light"
     },
     "output_type": "display_data"
    }
   ],
   "source": [
    "plt.figure(figsize = (18,8))\n",
    "sns.barplot(list_x, list_y, hue = list_month)\n",
    "plt.title(\"Count of Member and Casual Riders over the months\")"
   ]
  },
  {
   "cell_type": "markdown",
   "id": "afae93fc",
   "metadata": {},
   "source": [
    "- By looking at previous 12 months visualization data we can conclude that Membership holders are growing along with the time.\n",
    "- Casual riders usage of bikes have gradually increased higher in Summer season. "
   ]
  },
  {
   "cell_type": "markdown",
   "id": "0069be0d",
   "metadata": {},
   "source": [
    "#### To plot number of users on basis of weekdays. "
   ]
  },
  {
   "cell_type": "code",
   "execution_count": 54,
   "id": "16e10595",
   "metadata": {},
   "outputs": [
    {
     "data": {
      "image/png": "iVBORw0KGgoAAAANSUhEUgAAAsgAAAGoCAYAAABbtxOxAAAAOXRFWHRTb2Z0d2FyZQBNYXRwbG90bGliIHZlcnNpb24zLjMuNCwgaHR0cHM6Ly9tYXRwbG90bGliLm9yZy8QVMy6AAAACXBIWXMAAAsTAAALEwEAmpwYAAAtL0lEQVR4nO3df7xVZZ33/9cHMPwREgh1O9A3mJHxBxyRBCUpUzG0Rm4dUwe/ZaKmjZNN1j3N6GSj6WBjMVpZzWRK+KNGUe+SLG9/5q8kFIMAfzTSSEp5K4qImjiin/uPtQ5cHM85HpFz9jmH1/Px2I+z9rXXuva1r73OPu99nWutFZmJJEmSpEqfRjdAkiRJ6k4MyJIkSVLBgCxJkiQVDMiSJElSwYAsSZIkFfo1ugHdxZAhQ3LEiBGNboYkSZK6yP333/90Zg5tWW5Aro0YMYIFCxY0uhmSJEnqIhHxu9bKnWIhSZIkFQzIkiRJUsGALEmSJBWcgyxJktQNvPLKK6xYsYK1a9c2uim9ztZbb83w4cPZaqutOrS+AVmSJKkbWLFiBQMGDGDEiBFERKOb02tkJs888wwrVqxg5MiRHdrGKRaSJEndwNq1a9lhhx0Mx5tZRLDDDju8qZF5A7IkSVI3YTjuHG+2Xw3IkiRJUsGALEmSJBUMyJIkSVuw/fbbr9dcTXhzvRYDsiRJkjbJunXrGt2ETmFAliRJ6qaWL1/OLrvswic/+UnGjBnDxz72MW655RYmTZrEqFGjuPfee3nxxRc5/vjjmTBhAuPGjeO6664DYPbs2Rx22GFMnTqVkSNH8q1vfYvzzz+fcePGMXHiRFatWrX+ea644gr22WcfxowZw7333gvQbr1HHnkkU6dOZcqUKW22/atf/SpNTU2MHTuW0047DYDvfe97TJgwgbFjx/LRj36UP/7xjwBcffXVjBkzhrFjx7Lvvvuuf55TTjllfX2HHHIIt99+OwAnn3wy48ePZ/To0Zx55pmbqbc38DzIkiRJ3diyZcu4+uqrueiii5gwYQI//OEPufvuu5k7dy7nnnsuu+22GwcccACzZs1i9erV7LXXXhx44IEALF26lIULF7J27Vp22mknzjvvPBYuXMjnPvc5LrvsMk499VSgCsP33HMPd955J8cffzxLly5lxowZbdY7b948Fi9ezODBg1tt8w033MCPf/xj5s+fz7bbbrs+jB9++OGceOKJAJxxxhlccsklfOYzn+Hss8/mxhtvZNiwYaxevfoN+2TGjBkMHjyYV199lcmTJ7N48WJ23333t9jTGxiQJUmSurGRI0fS1NQEwOjRo5k8eTIRQVNTE8uXL2fFihXMnTuXmTNnAtX5lB977DEA9t9/fwYMGMCAAQMYOHAgU6dOBaCpqYnFixevf46jjz4agH333Zc1a9awevVqbrrppjbr/dCHPtRmOAa45ZZbOO6449h2220B1q+7dOlSzjjjDFavXs0LL7zAQQcdBMCkSZOYPn06Rx11FIcffvgb9smcOXO46KKLWLduHU888QQPPvigAVmSJGlL0b9///XLffr0WX+/T58+rFu3jr59+3Lttdey8847b7Td/Pnz33DbZi3PExwRZGab9W633XbttjkzWz338PTp0/nxj3/M2LFjmT179vopE//+7//O/Pnz+elPf8oee+zBokWL6NevH6+99tr6bZsv9PHoo48yc+ZM7rvvPgYNGsT06dM3++W5nYMsSZLUgx100EFceOGFZCYACxcufNN1XHXVVQDcfffdDBw4kIEDB76leqdMmcKsWbPWzzFunmLx/PPPs+OOO/LKK6/wgx/8YP36v/3tb9l77705++yzGTJkCI8//jgjRoxg0aJFvPbaazz++OPr50avWbOG7bbbjoEDB/Lkk09yww03vOnX+0YcQZYkqYtMufL0RjfhdW6a9pVGN0Fv0Ze+9CVOPfVUdt99dzKTESNGcP3117+pOgYNGsQ+++zDmjVrmDVr1luu9+CDD2bRokWMHz+et73tbXzkIx/h3HPP5ZxzzmHvvffmPe95D01NTTz//PMAfOELX+CRRx4hM5k8eTJjx44FNkwvGTNmDO9973sBGDt2LOPGjWP06NH86Z/+KZMmTXpTr7UjovlbwZZu/Pjx2VvOAShJ6p4MyGrPQw89xK677troZvRarfVvRNyfmeNbrusUC0mSJKngFAtJkiRtkiVLlnDMMcdsVNa/f3/mz5/foBZtHgZkSZIkbZKmpiYWLVrU6GZsdk6xkCRJkgoGZEmSJKlgQJYkSZIKzkGWJEnqIT7wqXM2a313ffdLm7W+TbXffvsxc+ZMxo9/3RnXGsIRZEmSJPVY5SWzNxcDsiRJktq0fPlydtllFz75yU8yZswYPvaxj3HLLbcwadIkRo0axb333suLL77I8ccfz4QJExg3bhzXXXcdALNnz+awww5j6tSpjBw5km9961ucf/75jBs3jokTJ66/BDXAFVdcwT777MOYMWPWX1a6vXqPPPJIpk6dypQpUzb7a3aKhSRJktq1bNkyrr76ai666CImTJjAD3/4Q+6++27mzp3Lueeey2677cYBBxzArFmzWL16NXvttRcHHnggAEuXLmXhwoWsXbuWnXbaifPOO4+FCxfyuc99jssuu4xTTz0VqMLwPffcw5133snxxx/P0qVLmTFjRpv1zps3j8WLFzN48ODN/noNyJIkSWrXyJEjaWpqAmD06NFMnjyZiKCpqYnly5ezYsUK5s6dy8yZMwFYu3Ytjz32GAD7778/AwYMYMCAAQwcOJCpU6cC1TmUFy9evP45jj76aAD23Xdf1qxZw+rVq7npppvarPdDH/pQp4RjMCBLkiTpDfTv33/9cp8+fdbf79OnD+vWraNv375ce+217LzzzhttN3/+/DfctllEbLRtRJCZbda73XbbbZ4X1wrnIEuSJOktOeigg7jwwgvJTAAWLlz4puu46qqrALj77rsZOHAgAwcO3Cz1bgpHkCVJknqI7nJatpa+9KUvceqpp7L77ruTmYwYMYLrr7/+TdUxaNAg9tlnH9asWcOsWbM2W72bIpoT+ZZu/PjxuWDBgkY3Q5LUi0258vRGN+F1bpr2lUY3QbWHHnqIXXfdtdHN6LVa69+IuD8zX3fyZadYSJIkSQUDsiRJklQwIEuSJEkFA7IkSZJUMCBLkiRJBQOyJEmSVPA8yJIkST3E5j5VYHc9zd/06dM55JBDOOKIIxry/I4gS5IkSQUDsiRJktp12WWXsfvuuzN27FiOOeYYfvKTn7D33nszbtw4DjzwQJ588kkA7rjjDvbYYw/22GMPxo0bx/PPP8/tt9/OIYccsr6uU045hdmzZwNw9tlnM2HCBMaMGcNJJ51Ed7mAnQFZkiRJbXrggQeYMWMGt912G7/+9a/5xje+wfvf/35++ctfsnDhQqZNm8ZXv/pVAGbOnMm3v/1tFi1axF133cU222zTbt2nnHIK9913H0uXLuWll17qkstId4QBWZIkSW267bbbOOKIIxgyZAgAgwcPZsWKFRx00EE0NTXxta99jQceeACASZMm8fnPf55vfvObrF69mn792j/c7ec//zl77703TU1N3HbbbevraTQDsiRJktqUmUTERmWf+cxnOOWUU1iyZAnf/e53Wbt2LQCnnXYaF198MS+99BITJ07k4Ycfpl+/frz22mvrt21ed+3atfzN3/wN11xzDUuWLOHEE09c/1ijGZAlSZLUpsmTJzNnzhyeeeYZAFatWsVzzz3HsGHDALj00kvXr/vb3/6WpqYm/uEf/oHx48fz8MMP8573vIcHH3yQl19+meeee45bb70V2BCUhwwZwgsvvMA111zTxa+sbZ7mTZIkqYdoxGnZRo8ezRe/+EU++MEP0rdvX8aNG8dZZ53FkUceybBhw5g4cSKPPvooAF//+tf5+c9/Tt++fdltt9348Ic/TP/+/TnqqKPYfffdGTVqFOPGjQPgHe94ByeeeCJNTU2MGDGCCRMmdPlra0t0l6MFG238+PG5YMGCRjdDktSLbe5z2G4O3fU8uFuihx56iF133bXRzei1WuvfiLg/M8e3XNcpFpIkSVLBgCxJkiQVDMiSJEndhFNfO8eb7VcDsiRJUjew9dZb88wzzxiSN7PM5JlnnmHrrbfu8DaexUKSJKkbGD58OCtWrGDlypWNbkqvs/XWWzN8+PAOr29AliRJ6ga22morRo4c2ehmCKdYSJIkSRsxIEuSJEkFA7IkSZJUMCBLkiRJBQOyJEmSVDAgS5IkSQUDsiRJklQwIEuSJEkFA7IkSZJUMCBLkiRJBQOyJEmSVDAgS5IkSYV+nf0EEdEXWAD8PjMPiYjBwFXACGA5cFRmPluvezpwAvAq8LeZeWNdvicwG9gG+Bnw2czMiOgPXAbsCTwD/FVmLq+3ORY4o27GP2fmpZ39WiVJUvcx5crTG92Ejdw07SuNboI6qCtGkD8LPFTcPw24NTNHAbfW94mI3YBpwGjgYOA7dbgG+DfgJGBUfTu4Lj8BeDYzdwIuAM6r6xoMnAnsDewFnBkRgzrrBUqSJKn36NSAHBHDgb8ALi6KDwWaR3MvBQ4ryq/MzJcz81FgGbBXROwIbJ+Z8zIzqUaMD2ulrmuAyRERwEHAzZm5qh6dvpkNoVqSJElqU2ePIH8d+HvgtaLsXZn5BED98511+TDg8WK9FXXZsHq5ZflG22TmOuA5YId26tpIRJwUEQsiYsHKlSs34eVJkiSpt+m0gBwRhwBPZeb9Hd2klbJsp3xTt9lQkHlRZo7PzPFDhw7tYDMlSZLUm3XmQXqTgP8ZER8Btga2j4grgCcjYsfMfKKePvFUvf4K4N3F9sOBP9Tlw1spL7dZERH9gIHAqrp8vxbb3L75Xpq6wgc+dU6jm7CRu777pUY3QZIkdYFOG0HOzNMzc3hmjqA6+O62zPw4MBc4tl7tWOC6enkuMC0i+kfESKqD8e6tp2E8HxET6/nFn2ixTXNdR9TPkcCNwJSIGFQfnDelLpMkSZLa1emneWvFvwBzIuIE4DHgSIDMfCAi5gAPAuuAT2fmq/U2J7PhNG831DeAS4DLI2IZ1cjxtLquVRFxDnBfvd7Zmbmqs1+YJEmSer4uCciZeTv1FIfMfAaY3MZ6M4AZrZQvAMa0Ur6WOmC38tgsYNamtlmSJElbJq+kJ0mSJBUMyJIkSVLBgCxJkiQVGnGQXo/mqcckSZJ6N0eQJUmSpIIBWZIkSSoYkCVJkqSCAVmSJEkqGJAlSZKkggFZkiRJKhiQJUmSpIIBWZIkSSoYkCVJkqSCAVmSJEkqeKlpSd3uEurgZdQlSY3jCLIkSZJUMCBLkiRJBQOyJEmSVDAgS5IkSQUDsiRJklTwLBaS1MW621lDPGOIJG3MEWRJkiSpYECWJEmSCgZkSZIkqWBAliRJkgoGZEmSJKlgQJYkSZIKnuZNktRrdbdT6m2zf6NbIKkjHEGWJEmSCgZkSZIkqWBAliRJkgoGZEmSJKlgQJYkSZIKBmRJkiSpYECWJEmSCp4HWZIkqQfpbuf3Brjru19qdBM2K0eQJUmSpIIBWZIkSSoYkCVJkqSCAVmSJEkqGJAlSZKkggFZkiRJKhiQJUmSpIIBWZIkSSoYkCVJkqSCAVmSJEkqGJAlSZKkggFZkiRJKhiQJUmSpIIBWZIkSSoYkCVJkqSCAVmSJEkqGJAlSZKkggFZkiRJKhiQJUmSpIIBWZIkSSoYkCVJkqSCAVmSJEkqGJAlSZKkggFZkiRJKhiQJUmSpIIBWZIkSSr0a3QDJElSz/eBT53T6Ca8zjb7N7oF6qkcQZYkSZIKBmRJkiSpYECWJEmSCgZkSZIkqWBAliRJkgqdFpAjYuuIuDcifh0RD0TEl+vywRFxc0Q8Uv8cVGxzekQsi4jfRMRBRfmeEbGkfuybERF1ef+IuKounx8RI4ptjq2f45GIOLazXqckSZJ6l84cQX4ZOCAzxwJ7AAdHxETgNODWzBwF3FrfJyJ2A6YBo4GDge9ERN+6rn8DTgJG1beD6/ITgGczcyfgAuC8uq7BwJnA3sBewJllEJckSZLa0mkBOSsv1He3qm8JHApcWpdfChxWLx8KXJmZL2fmo8AyYK+I2BHYPjPnZWYCl7XYprmua4DJ9ejyQcDNmbkqM58FbmZDqJYkSZLa1KlzkCOib0QsAp6iCqzzgXdl5hMA9c931qsPAx4vNl9Rlw2rl1uWb7RNZq4DngN2aKeulu07KSIWRMSClStXvoVXKkmSpN6iUwNyZr6amXsAw6lGg8e0s3q0VkU75Zu6Tdm+izJzfGaOHzp0aDtNkyRJ0paiS85ikZmrgduppjk8WU+boP75VL3aCuDdxWbDgT/U5cNbKd9om4joBwwEVrVTlyRJktSuzjyLxdCIeEe9vA1wIPAwMBdoPqvEscB19fJcYFp9ZoqRVAfj3VtPw3g+IibW84s/0WKb5rqOAG6r5ynfCEyJiEH1wXlT6jJJkiSpXf06se4dgUvrM1H0AeZk5vURMQ+YExEnAI8BRwJk5gMRMQd4EFgHfDozX63rOhmYDWwD3FDfAC4BLo+IZVQjx9PqulZFxDnAffV6Z2fmqk58rZIkSeolOi0gZ+ZiYFwr5c8Ak9vYZgYwo5XyBcDr5i9n5lrqgN3KY7OAWW+u1ZIkSdrSeSU9SZIkqWBAliRJkgqdOQdZktQDTLny9EY34XVumvaVRjdB0hbMEWRJkiSpYECWJEmSCgZkSZIkqWBAliRJkgoGZEmSJKlgQJYkSZIKBmRJkiSpYECWJEmSCgZkSZIkqWBAliRJkgoGZEmSJKlgQJYkSZIKBmRJkiSpYECWJEmSCgZkSZIkqWBAliRJkgoGZEmSJKlgQJYkSZIKBmRJkiSpYECWJEmSCgZkSZIkqWBAliRJkgodCsgRcWtHyiRJkqSerl97D0bE1sC2wJCIGARE/dD2wJ90ctskSZKkLtduQAY+BZxKFYbvZ0NAXgN8u/OaJUmSJDVGuwE5M78BfCMiPpOZF3ZRmyRJkqSGeaMRZAAy88KI2AcYUW6TmZd1UrskSZKkhuhQQI6Iy4E/AxYBr9bFCRiQJUmS1Kt0KCAD44HdMjM7szGSJElSo3X0PMhLgf/RmQ2RJEmSuoOOjiAPAR6MiHuBl5sLM/N/dkqrJEmSpAbpaEA+qzMbIUmSJHUXHT2LxR2d3RBJkiSpO+joWSyepzprBcDbgK2AFzNz+85qmCRJktQIHR1BHlDej4jDgL06o0GSJElSI3X0LBYbycwfAwds3qZIkiRJjdfRKRaHF3f7UJ0X2XMiS5Ikqdfp6FksphbL64DlwKGbvTWSJElSg3V0DvJxnd0QSZIkqTvo0BzkiBgeET+KiKci4smIuDYihnd24yRJkqSu1tGD9L4PzAX+BBgG/KQukyRJknqVjgbkoZn5/cxcV99mA0M7sV2SJElSQ3Q0ID8dER+PiL717ePAM53ZMEmSJKkROhqQjweOAv4v8ARwBOCBe5IkSep1Onqat3OAYzPzWYCIGAzMpArOkiRJUq/R0RHk3ZvDMUBmrgLGdU6TJEmSpMbp6Ahyn4gY1GIEuaPbSpIkqRebcuXpjW7CRm6a9pW3tH1HQ+6/AvdExDVUl5g+Cpjxlp5ZkiRJ6oY6eiW9yyJiAXAAEMDhmflgp7ZMkiRJaoAOT5OoA7GhWFKX6G3/rpMk9RwdPUhPkiRJ2iIYkCVJkqSCAVmSJEkqGJAlSZKkgucyljqoux00Bh44JklSZ3AEWZIkSSo4gtzDOaopSZK0eTmCLEmSJBUMyJIkSVLBgCxJkiQVDMiSJElSwYAsSZIkFQzIkiRJUsGALEmSJBUMyJIkSVKh0wJyRLw7In4eEQ9FxAMR8dm6fHBE3BwRj9Q/BxXbnB4RyyLiNxFxUFG+Z0QsqR/7ZkREXd4/Iq6qy+dHxIhim2Pr53gkIo7trNcpSZKk3qUzR5DXAf8rM3cFJgKfjojdgNOAWzNzFHBrfZ/6sWnAaOBg4DsR0beu69+Ak4BR9e3guvwE4NnM3Am4ADivrmswcCawN7AXcGYZxCVJkqS2dFpAzswnMvNX9fLzwEPAMOBQ4NJ6tUuBw+rlQ4ErM/PlzHwUWAbsFRE7Attn5rzMTOCyFts013UNMLkeXT4IuDkzV2Xms8DNbAjVkiRJUpu6ZA5yPfVhHDAfeFdmPgFViAbeWa82DHi82GxFXTasXm5ZvtE2mbkOeA7YoZ26WrbrpIhYEBELVq5c+RZeoSRJknqLTg/IEfF24Frg1Mxc096qrZRlO+Wbus2GgsyLMnN8Zo4fOnRoO02TJEnSlqJTA3JEbEUVjn+Qmf+7Ln6ynjZB/fOpunwF8O5i8+HAH+ry4a2Ub7RNRPQDBgKr2qlLkiRJaldnnsUigEuAhzLz/OKhuUDzWSWOBa4ryqfVZ6YYSXUw3r31NIznI2JiXecnWmzTXNcRwG31POUbgSkRMag+OG9KXSZJkiS1q18n1j0JOAZYEhGL6rJ/BP4FmBMRJwCPAUcCZOYDETEHeJDqDBifzsxX6+1OBmYD2wA31DeoAvjlEbGMauR4Wl3Xqog4B7ivXu/szFzVSa9TkiRJvUinBeTMvJvW5wIDTG5jmxnAjFbKFwBjWilfSx2wW3lsFjCro+2VJEmSwCvpSZIkSRsxIEuSJEkFA7IkSZJUMCBLkiRJBQOyJEmSVDAgS5IkSQUDsiRJklQwIEuSJEkFA7IkSZJUMCBLkiRJBQOyJEmSVDAgS5IkSQUDsiRJklQwIEuSJEkFA7IkSZJUMCBLkiRJBQOyJEmSVDAgS5IkSQUDsiRJklQwIEuSJEkFA7IkSZJUMCBLkiRJBQOyJEmSVDAgS5IkSQUDsiRJklQwIEuSJEkFA7IkSZJUMCBLkiRJBQOyJEmSVDAgS5IkSQUDsiRJklQwIEuSJEkFA7IkSZJUMCBLkiRJBQOyJEmSVDAgS5IkSQUDsiRJklQwIEuSJEkFA7IkSZJUMCBLkiRJBQOyJEmSVDAgS5IkSQUDsiRJklQwIEuSJEkFA7IkSZJUMCBLkiRJBQOyJEmSVDAgS5IkSQUDsiRJklQwIEuSJEkFA7IkSZJUMCBLkiRJBQOyJEmSVDAgS5IkSQUDsiRJklQwIEuSJEkFA7IkSZJUMCBLkiRJBQOyJEmSVDAgS5IkSQUDsiRJklQwIEuSJEkFA7IkSZJUMCBLkiRJBQOyJEmSVDAgS5IkSQUDsiRJklQwIEuSJEmFTgvIETErIp6KiKVF2eCIuDkiHql/DioeOz0ilkXEbyLioKJ8z4hYUj/2zYiIurx/RFxVl8+PiBHFNsfWz/FIRBzbWa9RkiRJvU9njiDPBg5uUXYacGtmjgJure8TEbsB04DR9TbfiYi+9Tb/BpwEjKpvzXWeADybmTsBFwDn1XUNBs4E9gb2As4sg7gkSZLUnk4LyJl5J7CqRfGhwKX18qXAYUX5lZn5cmY+CiwD9oqIHYHtM3NeZiZwWYttmuu6Bphcjy4fBNycmasy81ngZl4f1CVJkqRWdfUc5Hdl5hMA9c931uXDgMeL9VbUZcPq5ZblG22TmeuA54Ad2qnrdSLipIhYEBELVq5c+RZeliRJknqL7nKQXrRSlu2Ub+o2GxdmXpSZ4zNz/NChQzvUUEmSJPVuXR2Qn6ynTVD/fKouXwG8u1hvOPCHunx4K+UbbRMR/YCBVFM62qpLkiRJekNdHZDnAs1nlTgWuK4on1afmWIk1cF499bTMJ6PiIn1/OJPtNimua4jgNvqeco3AlMiYlB9cN6UukySJEl6Q/06q+KI+A9gP2BIRKygOrPEvwBzIuIE4DHgSIDMfCAi5gAPAuuAT2fmq3VVJ1OdEWMb4Ib6BnAJcHlELKMaOZ5W17UqIs4B7qvXOzszWx4sKEmSJLWq0wJyZh7dxkOT21h/BjCjlfIFwJhWytdSB+xWHpsFzOpwYyVJkqRadzlIT5IkSeoWDMiSJElSwYAsSZIkFQzIkiRJUsGALEmSJBUMyJIkSVLBgCxJkiQVDMiSJElSwYAsSZIkFQzIkiRJUsGALEmSJBUMyJIkSVLBgCxJkiQVDMiSJElSwYAsSZIkFQzIkiRJUsGALEmSJBUMyJIkSVLBgCxJkiQVDMiSJElSwYAsSZIkFQzIkiRJUsGALEmSJBUMyJIkSVLBgCxJkiQVDMiSJElSwYAsSZIkFQzIkiRJUsGALEmSJBUMyJIkSVLBgCxJkiQVDMiSJElSwYAsSZIkFQzIkiRJUsGALEmSJBUMyJIkSVLBgCxJkiQVDMiSJElSwYAsSZIkFQzIkiRJUsGALEmSJBUMyJIkSVLBgCxJkiQVDMiSJElSwYAsSZIkFQzIkiRJUsGALEmSJBUMyJIkSVLBgCxJkiQVDMiSJElSwYAsSZIkFQzIkiRJUsGALEmSJBUMyJIkSVLBgCxJkiQVDMiSJElSwYAsSZIkFQzIkiRJUsGALEmSJBUMyJIkSVLBgCxJkiQVDMiSJElSwYAsSZIkFQzIkiRJUsGALEmSJBUMyJIkSVLBgCxJkiQVDMiSJElSoVcH5Ig4OCJ+ExHLIuK0RrdHkiRJ3V+vDcgR0Rf4NvBhYDfg6IjYrbGtkiRJUnfXawMysBewLDP/KzP/G7gSOLTBbZIkSVI3F5nZ6DZ0iog4Ajg4Mz9Z3z8G2DszTynWOQk4qb67M/CbLm/oWzcEeLrRjdhC2Nddy/7uOvZ117Gvu5b93XV6al+/JzOHtizs14iWdJFopWyjbwOZeRFwUdc0p3NExILMHN/odmwJ7OuuZX93Hfu669jXXcv+7jq9ra978xSLFcC7i/vDgT80qC2SJEnqIXpzQL4PGBURIyPibcA0YG6D2yRJkqRurtdOscjMdRFxCnAj0BeYlZkPNLhZnaFHTxHpYezrrmV/dx37uuvY113L/u46vaqve+1BepIkSdKm6M1TLCRJkqQ3zYAsSZIkFQzIDRARGRGXF/f7RcTKiLh+M9V/VkT83eaoqyeLiB0iYlF9+78R8fvi/ts24/Pst7neu+4qIi6IiFOL+zdGxMXF/X+NiM93oJ4REbG0k5rZ/BwvdGb9jdLO/rw6Ih7sguefHhHf6uzn6Ski4tXi/VgUESNaWednEfGOVsr9jG5FRHwxIh6IiMV1n+7dzrrTI+JPNsNzLo+IIW+1np7uzfT9m6izR+/nvfYgvW7uRWBMRGyTmS8BHwJ+3+A29TqZ+QywB1S/qMALmTmzkW3qwe4BjgS+HhF9qE4Iv33x+D7AqQ1o1xajrf25Dmab/AUtIvpl5rrN0cYtzEuZuUdrD0REUB3j85GubVLPFRHvAw4B3puZL9ehtb2BjOnAUt7E6Vvd11u3CX2/RXAEuXFuAP6iXj4a+I/mByJicET8uP4m98uI2L0uPysiZkXE7RHxXxHxt8U2X4yI30TELVRXBWwuPzEi7ouIX0fEtRGxbUQMiIhHI2Krep3t62/RW3XFC2+kiJhdX2Wx+f4LxfIX6r5aHBFfrsu2i4if1v23NCL+qi4/OCIejoi7gcOLOvaKiHsiYmH9c+e6/K6I2KNY7xfN72sP8QuqEAwwmuoP0/MRMSgi+gO7AkTEHRFxfz3CvGNdtmfdf/OATzdXWI8A/e+I+D8R8UhEfLV4bEpEzIuIX0XE1RHx9rr8XyLiwfo9mlmXjazXvS8izinqeHtE3FrXsSQiDq3Lz4mIzxbrzSh/l3qovhHxvXoE6KaI2Aag/qwYXy8PiYjl9fL0ul9/AtwUETtGxJ31yNHSiPhAvd5xEfGfEXEHMKn5ySJiakTMr/fzWyLiXRHRp34fh9br9ImIZbGFjM5F9d+RhyLiO8CvgHdHMTrpZ/Qb2hF4OjNfBsjMpzPzDxHxT3X/LI2Ii6JyBDAe+EG9z27Toq/HR8Tt9fJZ9XY3AZdF9Z+Ym+p997sUFxWL6u/u/fXv0Ul12QkRcUGxzokRcX5XdUoXaavv2+vT3p9FMtNbF9+AF4DdgWuArYFFwH7A9fXjFwJn1ssHAIvq5bOoRvL6U43gPQNsBewJLAG2pRrVWwb8Xb3NDsXz/jPwmXr5+8Bh9fJJwL82ul86uc/PAv4OmA0cUb4X9c8pVKeoCaovjtcD+wIfBb5XrD+wfs8eB0bV688p3rvtgX718oHAtfXyscDX6+U/BxY0uk82oQ+XA/8f8Cngr4FzgI9QBad59b45tF73r6hOrQiwGPhgvfw1YGm9PB34r6JPf0d1cZ8hwJ3AdvV6/wD8EzCY6nLwzWffeUf9cy7wiXr508V72g/Yvl4eUv9eBDAC+FVd3gf4bfl70hNuzftzvTwCWAfsUd+fA3y8Xr4dGF/0wfKi71cAg+v7/wv4Yr3cFxhA9UfzMWAo1WjSL4Bv1esMKt6HT1J/fgBnAqcWv1PXNrqvOvE9eJXqs3sR8KP6fXgNmNjid2YIfkZ3pD/fXvflfwLfYcNnxuBincuBqdli3y77ul4eD9xeL58F3A9sU9//JvBP9fJfUF1hd0j5XMA2VIMAOwDb1Z8RW9WP3QM0Nbq/uqjv2+vTXp9FHEFukMxcTPWBejTwsxYPv5/qg4DMvA3YISIG1o/9NDNfzsyngaeAdwEfAH6UmX/MzDVsfEGUMVGNXi4BPkY1+gdwMXBcvXwc1U66JZtS3xZSjf7sQhWAlwAHRsR5EfGBzHyufuzRzHwkq9/qK4p6BgJXRzXP9gI29PfVwCH1N+PjqYJ6T9M8irwPVSCeV9z/PTAGuDkiFgFnAMPr/fYdmXlHXcflLeq8NTOfy8y1wIPAe4CJwG7AL+q6jq3L1wBrgYsj4nDgj3Udk9jwH5iy/gDOjYjFwC3AMOBdmbkceCYixlG/51lNX+jJHs3MRfXy/VSfLW/k5sxcVS/fBxwX1dSNpsx8Htib6g/iysz8b+CqYtvhwI3158oX2LCfzwI+US8fT+/+XHkpM/eob39Zl/0uM3/Zyrp+Rr+BzHyBKmCdBKwEroqI6cD+9X8rllANGI1uu5Y2zc1qOiNUAx9X1M/5U+DZYr2/jYhfA7+k+rI+KjNfBG6j+vzehSooL9mENnRb7fR9e3p9FnEOcmPNBWZSjR7vUJRHK+s2n7D65aLsVTa8h22d0Ho21bezX9c7/H4AmfmL+l+CHwT6ZmanHjjVjayjnloUEcGGeVYBfCUzv9tyg4jYk2qk9Cv1v+nm0nZ/nwP8PDP/Mqq5obcDZOYfI+Jm4FDgKKpv4z3NPVRhuIlqdOVxqpHHNVR/QIZl5vvKDaI6QKm9k623tj8HVXg7uuXKEbEXMJnqypinUP3BpI3n+BjV6OeemflKVNMLtq4fu5hqFPV/UIW6nq5lP25TL6/f39nw2pu92LyQmXdGxL5UI2qXR8TXqN7Xtt67C4HzM3NuROxHNaJEZj4eEU9GxAFUAftjm/qCeqgX23nMz+g3kJmvUn1m3l4HqU9R/bd1fL1vncXr9+NmHdrXm5+q5cb1fnwg8L768/p2Nv68+EfgYbpRgNucWun7Y2m/T3t9FnEEubFmAWe38m30Tuo/LPUv7dP1t7G23An8ZT0PawAwtXhsAPBEPXLZ8o/VZVQjb73yF74Ny6m+KUMVVpvnOt0IHB8b5roOi4h3RnWU9B8z8wqqLzPvpfqQHBkRf1ZvWwa5gWw44HJ6i+e+mOrfe/cVI3c9yS+oDuRYlZmv1q/hHcD7qEYXh0Z1sAcRsVVEjM7M1cBzEfH+uo6OBKZfApMiYqe6rm0j4s/r92ZgZv6M6oDAPYp2TWul/oHAU3U43p9qFLrZj4CDgQlU731vtZwN+/sRba0UEe+h6qvvAZdQ7efzgf3qOZtbUR2k2azcz49tUd3FVCN0c+o/uvIz+g1FxM4RMaoo2oNqShXA0/Xvf7kPP0/Vd82Ws2Ff/2g7T1X+ff0w1XQhqPbpZ+twvAvVf7IAyMz5VCPK/z/F8UK9RRt9/zs63qfNetV+7ghyA2XmCuAbrTx0FvD9+l/Df+T1f4Ba1vOriLiKag7R74C7ioe/RPWH7ndU0wXKD5QfUM0F6nW/8O34HnBdRNwL3Eo9spCZN0XErsC8amCZF4CPAzsBX4uI14BXgJMzc21UB3D8NCKeBu6mml4A8FXg0qhOeXZb+cSZeX9ErKGbfQi8CUuo5pv9sEXZ2zPzqagOnPlmPa2iH/B14AGqf5vNiog/0oEwmpkr6xGG/4jqAECopmw8T/XebU01yvy5+rHPAj+M6sC7a4uqfgD8JCIWUP1uPFw8x39HxM+B1b08xM0E5kTEMbTYH1vYD/hCRLxCte9/IjOfqEfs5gFPUE096luvfxbVVKLfU32hGVnUNZdqH++p+/lm52d0h7wduLD+r9M6qvmrJwGrqfplOdVUoGazgX+PiJeovqR/GbgkIv6Rqj/b8mWqz5ZfAXdQzbMH+D/AX9d/d39DtV+X5lDN83+W3qetvt+VjvUp0Pv2cy81vQWrA82hmXlMo9uyJahHo28HdsnM1xrcnC1aVKeq+xVwZGY+0uj29CZRnTXjgsz8QKPb0tP5Gd19RHWu+wsy89ZGt6W36a77uSPIW6iIuBD4MNXcWnWyiPgEMAP4vOG4sSJiN6qzlPzIcLx5RcRpwMlseXOPNzs/o7uHelT1XuDXhuPNrzvv544gS5IkSQUP0pMkSZIKBmRJkiSpYECWJEmSCgZkSZIkqWBAlqQtTETcXp+O7c1uNz0ivtUZbZKk7sSALEmSJBUMyJLUzUXE30fE39bLF0TEbfXy5Ii4IiKmRMS8iPhVRFxdXDJ9z4i4IyLuj4gbI2LHFvX2iYhLI+Kf23nu4yLiPyPiDmBSUT41IuZHxMKIuCUi3lXX90hEDC3qXxYRQzqhWySp0xiQJan7uxNovjLdeODtEbEV8H6qy7aeARyYme8FFgCfrx+/EDgiM/cEZlFdrKZZP6pLvP5nZp7R2pPWgfrLVMH4Q8BuxcN3AxMzcxxwJfD39UVwrmDDhUIOpLrAwtNv5cVLUlfzSnqS1P3dD+wZEQOAl6kukz2eKjTPpQquv4gIgLcB84CdgTHAzXV5X+CJos7vAnMyswzNLe0N3J6ZKwEi4irgz+vHhgNX1SH6bcCjdfks4Drg68DxwPc39UVLUqMYkCWpm8vMVyJiOXAccA+wGNgf+DOqYHpzZh5dbhMRTcADmfm+Nqq9B9g/Iv41M9e29/RtlF8InJ+ZcyNiP+Csuq2PR8STEXEAVcD2stOSehynWEhSz3An8Hf1z7uAvwYWAb8EJkXETgARsW1E/DnwG2BoRLyvLt8qIkYX9V0C/Ay4OiLaGiyZD+wXETvUUzaOLB4bCPy+Xj62xXYXU021mJOZr27Ki5WkRjIgS1LPcBewIzAvM58E1gJ31dMfpgP/ERGLqQLzLpn538ARwHkR8WuqML1PWWFmnk81XePyiHjd34PMfIJqZHgecEu9brOzqML1XUDLOcZzgbfj9ApJPVRktvXfM0mS3rz6HMsXZOYH3nBlSeqGnIMsSdpsIuI04GSceyypB3MEWZJERMwH+rcoPiYzlzSiPZLUSAZkSZIkqeBBepIkSVLBgCxJkiQVDMiSJElSwYAsSZIkFf4f7uCiWBOBf80AAAAASUVORK5CYII=\n",
      "text/plain": [
       "<Figure size 720x432 with 1 Axes>"
      ]
     },
     "metadata": {
      "needs_background": "light"
     },
     "output_type": "display_data"
    }
   ],
   "source": [
    "plt.figure(figsize=(10,6))\n",
    "order = [\"Monday\", \"Tuesday\", \"Wednesday\", \"Thursday\", \"Friday\", \"Saturday\", \"Sunday\"]\n",
    "sns.countplot(x='week_day', hue='member_casual', data=final_file, palette='viridis', order=order)\n",
    "plt.tight_layout()"
   ]
  },
  {
   "cell_type": "markdown",
   "id": "3f6ab319",
   "metadata": {},
   "source": [
    "- Casual riders are enthuasiatic on weekends as they have the highest bike usage on Saturday and Sunday.\n",
    "- Member riders have consistent use of bikes on weekdays."
   ]
  },
  {
   "cell_type": "markdown",
   "id": "3581870e",
   "metadata": {},
   "source": [
    "# STEP 6 : ACT\n",
    "\n",
    "In the final step, we will be delivering our insights and providing recommendations based on our analysis.\n",
    "\n",
    "Here, we revisit our business questions and share with you our high-level business recommendations."
   ]
  },
  {
   "cell_type": "markdown",
   "id": "55b23b23",
   "metadata": {},
   "source": [
    "### How do annual members and casual riders use Cyclistic bikes differently?\n",
    "\n",
    "- Member riders have annual memberships because their frequency of bike usage is higher. They use it for daily commute of shorter distance.\n",
    "\n",
    "- Casual riders more often use bikes for leisure or personal activities. Their usage is higher on weekends."
   ]
  },
  {
   "cell_type": "markdown",
   "id": "6dab6770",
   "metadata": {},
   "source": [
    "### Why would casual riders buy Cyclistic annual memberships?\n",
    "\n",
    "- The casual riders who uses cycles frequently would have higher chances to buy annual membership because Annual membership is better than sigle-ride or full-day pass for frequent casual riders."
   ]
  },
  {
   "cell_type": "markdown",
   "id": "e0e38980",
   "metadata": {},
   "source": [
    "### How can Cyclistic use digital media to influence casual riders to become members?\n",
    "\n",
    "- The best campaign period is in the summer between June and August while bike usage reaches its peak.\n",
    "\n",
    "- To get the maximum reach for casual riders, the ads better be started at noon until evening.\n",
    "\n",
    "- Casual riders are more active on the weekend around Chicago Harbor and Millenium Park stations, so it could be a great opportunity to concentrate the ads around the area on those days."
   ]
  }
 ],
 "metadata": {
  "kernelspec": {
   "display_name": "Python 3",
   "language": "python",
   "name": "python3"
  },
  "language_info": {
   "codemirror_mode": {
    "name": "ipython",
    "version": 3
   },
   "file_extension": ".py",
   "mimetype": "text/x-python",
   "name": "python",
   "nbconvert_exporter": "python",
   "pygments_lexer": "ipython3",
   "version": "3.8.5"
  }
 },
 "nbformat": 4,
 "nbformat_minor": 5
}
